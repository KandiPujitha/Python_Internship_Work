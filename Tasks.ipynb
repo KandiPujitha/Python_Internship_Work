{
 "cells": [
  {
   "cell_type": "markdown",
   "id": "83030081",
   "metadata": {},
   "source": [
    "# Task 1 \n"
   ]
  },
  {
   "cell_type": "code",
   "execution_count": 1,
   "id": "488ef848",
   "metadata": {},
   "outputs": [
    {
     "name": "stdout",
     "output_type": "stream",
     "text": [
      "1.Enter new record \n",
      " 2.Display all records \n",
      " 3.Update record \n",
      " 4.Delete record\n",
      "Select any option from above for Contact Application: 2\n",
      "Empty record\n"
     ]
    }
   ],
   "source": [
    "print(\"1.Enter new record \\n 2.Display all records \\n 3.Update record \\n 4.Delete record\")\n",
    "n = int(input(\"Select any option from above for Contact Application: \"))\n",
    "d1={}\n",
    "d2={}\n",
    "#Creating records in a empty dictionary\n",
    "if(n==1 or n==3):\n",
    "    m1 = int(input(\"Dictionary is empty! Enter no. of records you want to create: \"))\n",
    "    # Creating multiple records using for loop\n",
    "    for i in range(1, m1+1):\n",
    "        name = input(\"Enter your name: \")\n",
    "        if name in d1:\n",
    "            print(name,\"Already exists\")\n",
    "        else:\n",
    "            num = int(input(\"Enter your mobile number: \"))\n",
    "            d1[name] = num\n",
    "    print(\"Details Saved successfully...\")\n",
    "    print(\"Entered records are: \")\n",
    "    print(\"Name \\tmobile number\")\n",
    "    for name,num in sorted(d1.items()):\n",
    "        print(name,\"\\t\",num)\n",
    "    print(\"Press 2 to display records\\nPress 3 to update a record\\nPress 4 to delete record\")\n",
    "    m = int(input(\"Enter your Choice: \"))\n",
    "    # display or update or deletion based on choice\n",
    "    if(m==2):\n",
    "        print(\"Displaying Records...\")\n",
    "        print(\"Name \\tmobile number\")\n",
    "        for name,num in sorted(d1.items()):\n",
    "            print(name,\"\\t\",num)\n",
    "    # updating record in existing dictionary\n",
    "    elif(m==3):\n",
    "        name = input(\"Enter your name: \")\n",
    "        if name in d1:\n",
    "            print(name,\"Record already exists.\")\n",
    "        else:\n",
    "            num = int(input(\"Enter your mobile number: \"))\n",
    "            d2[name] = num\n",
    "            d1.update(d2)\n",
    "            print(\"Record successfully Updated...\")\n",
    "        print(\"After updation, the records are: \")\n",
    "        print(\"Name \\tmobile number\")\n",
    "        for name,num in sorted(d1.items()):\n",
    "            print(name,\"\\t\",num)\n",
    "    # deleting record in dictionary\n",
    "    elif(m==4):\n",
    "        name1 = input(\"Enter a name to delete in the record: \")\n",
    "        if name1 in d1:\n",
    "            d1.pop(name1)\n",
    "            print(\"record deleted..\")\n",
    "            print(\"After deletion, the records are: \")\n",
    "            print(\"Name \\tmobile number\")\n",
    "            for name,num in sorted(d1.items()):\n",
    "                print(name,\"\\t\",num)\n",
    "        else:\n",
    "            print(\"Name doesn't exist\")\n",
    "elif(n==2 or n==4):\n",
    "    print(\"Empty record\")\n",
    "else:\n",
    "    print(\"Please enter a right option\")\n"
   ]
  },
  {
   "cell_type": "markdown",
   "id": "53921f1f",
   "metadata": {},
   "source": [
    "# Task2"
   ]
  },
  {
   "cell_type": "code",
   "execution_count": 3,
   "id": "4a53caf8",
   "metadata": {},
   "outputs": [],
   "source": [
    "from APSSDC.Calci import add as a # importing add module from Calci\n",
    "from APSSDC.Calci import sub as s # importing sub module from Calci\n",
    "from APSSDC.Calci import mul as m # importing mul module from Calci\n",
    "from APSSDC.Calci import div as d # importing div module from Calci\n",
    "\n"
   ]
  },
  {
   "cell_type": "code",
   "execution_count": 4,
   "id": "3a28eec9",
   "metadata": {},
   "outputs": [
    {
     "name": "stdout",
     "output_type": "stream",
     "text": [
      "Enter first value: 23\n",
      "Enter second value: 12\n",
      "The given numbers are 23 and 12 and its addition is : 35\n",
      "The given numbers are 23 and 12 and its subtraction is : 11\n",
      "The given numbers are 23 and 12 and its multiplication is : 276\n",
      "The given numbers are 23 and 12 and its division is : 1.9166666666666667\n"
     ]
    }
   ],
   "source": [
    "x = int(input(\"Enter first value: \"))\n",
    "y = int(input(\"Enter second value: \"))\n",
    "z1 = a.add(x,y) # accessing addition value and storing in z1 variable\n",
    "z2 = s.sub(x,y) # accessing subtraction value and storing in z2 variable\n",
    "z3 = m.mul(x,y) # accessing multiplication value and storing in z3 variable\n",
    "z4 = d.div(x,y) # accessing division value and storing in z4 variable\n",
    "print(\"The given numbers are {} and {} and its addition is : {}\".format(x,y,z1))\n",
    "print(\"The given numbers are {} and {} and its subtraction is : {}\".format(x,y,z2))\n",
    "print(\"The given numbers are {} and {} and its multiplication is : {}\".format(x,y,z3))\n",
    "print(\"The given numbers are {} and {} and its division is : {}\".format(x,y,z4))\n",
    "\n"
   ]
  },
  {
   "cell_type": "markdown",
   "id": "18c517a0",
   "metadata": {},
   "source": [
    "# Task3"
   ]
  },
  {
   "cell_type": "code",
   "execution_count": 5,
   "id": "8bcb926f",
   "metadata": {},
   "outputs": [
    {
     "name": "stdout",
     "output_type": "stream",
     "text": [
      "abcd1234@#$%\n",
      "Given string is:  abcd1234@#$%\n",
      "Alphabets in  abcd1234@#$% is:  a b c d\n",
      "Digits in  abcd1234@#$% is:  1 2 3 4\n",
      "Special characters in abcd1234@#$% is:  @ # $ %\n"
     ]
    }
   ],
   "source": [
    "#Input: 145syfg&*$#\n",
    "    #output:\n",
    "        #given string is:145syfg&*$#\n",
    "        #alphabets in 145syfg&*$#: s y f g \n",
    "        #numbers in 145syfg&*$# is: 1 4 5\n",
    "        #special characters in 145syfg&*$# is: & * $ #\n",
    "x=input()\n",
    "print(\"Given string is: \",x)\n",
    "l1=[]\n",
    "l2=[]\n",
    "l3=[]\n",
    "for i in x:\n",
    "    if(i.isalpha()):\n",
    "        l1.append(i)\n",
    "    elif(i.isdigit()):\n",
    "        l2.append(i)\n",
    "    else:\n",
    "        l3.append(i)\n",
    "a=\" \".join(l1)\n",
    "b=\" \".join(l2)\n",
    "c=\" \".join(l3)\n",
    "print(\"Alphabets in \",x,\"is: \",a)\n",
    "print(\"Digits in \",x,\"is: \",b)\n",
    "print(\"Special characters in\",x,\"is: \",c)"
   ]
  },
  {
   "cell_type": "code",
   "execution_count": null,
   "id": "20934761",
   "metadata": {},
   "outputs": [],
   "source": []
  }
 ],
 "metadata": {
  "kernelspec": {
   "display_name": "Python 3",
   "language": "python",
   "name": "python3"
  },
  "language_info": {
   "codemirror_mode": {
    "name": "ipython",
    "version": 3
   },
   "file_extension": ".py",
   "mimetype": "text/x-python",
   "name": "python",
   "nbconvert_exporter": "python",
   "pygments_lexer": "ipython3",
   "version": "3.7.0"
  }
 },
 "nbformat": 4,
 "nbformat_minor": 5
}
