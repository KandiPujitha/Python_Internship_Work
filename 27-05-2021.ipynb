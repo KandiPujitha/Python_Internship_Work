{
 "cells": [
  {
   "cell_type": "code",
   "execution_count": 5,
   "id": "208cf6b9",
   "metadata": {},
   "outputs": [
    {
     "name": "stdout",
     "output_type": "stream",
     "text": [
      "10\n",
      "19KQ1A0500\n",
      "19KQ1A0501\n",
      "19KQ1A0502\n",
      "19KQ1A0503\n",
      "19KQ1A0504\n",
      "19KQ1A0505\n",
      "19KQ1A0506\n",
      "19KQ1A0507\n",
      "19KQ1A0508\n",
      "19KQ1A0509\n"
     ]
    }
   ],
   "source": [
    "n=int(input())\n",
    "for j in range(n):\n",
    "    print(\"19KQ1A05{:02}\".format(j))\n",
    "    "
   ]
  },
  {
   "cell_type": "code",
   "execution_count": 9,
   "id": "74de8ff0",
   "metadata": {},
   "outputs": [
    {
     "ename": "SyntaxError",
     "evalue": "invalid syntax (<ipython-input-9-a6490f5ed2ce>, line 3)",
     "output_type": "error",
     "traceback": [
      "\u001b[1;36m  File \u001b[1;32m\"<ipython-input-9-a6490f5ed2ce>\"\u001b[1;36m, line \u001b[1;32m3\u001b[0m\n\u001b[1;33m    ````\u001b[0m\n\u001b[1;37m    ^\u001b[0m\n\u001b[1;31mSyntaxError\u001b[0m\u001b[1;31m:\u001b[0m invalid syntax\n"
     ]
    }
   ],
   "source": [
    "## while-> unknown ranges,known ranges\n",
    "    \n",
    "````\n",
    "    syntax:\n",
    "        variable init\n",
    "        while (condition):\n",
    "            //stmt\n",
    "            // incr/decr\n",
    "````          "
   ]
  },
  {
   "cell_type": "code",
   "execution_count": null,
   "id": "9e28b5e2",
   "metadata": {},
   "outputs": [],
   "source": [
    "n=int(input())  ## backward\n",
    "while n!=10:\n",
    "    print(n,end=\" \")\n",
    "    n=n-1"
   ]
  },
  {
   "cell_type": "code",
   "execution_count": 10,
   "id": "729ae817",
   "metadata": {},
   "outputs": [
    {
     "name": "stdout",
     "output_type": "stream",
     "text": [
      "20\n",
      "1 2 3 4 5 6 7 8 9 10 11 12 13 14 15 16 17 18 19 "
     ]
    }
   ],
   "source": [
    "m=int(input())   ## farword\n",
    "i=1\n",
    "while m!=i:\n",
    "    print(i,end=\" \")\n",
    "    i=i+1"
   ]
  },
  {
   "cell_type": "code",
   "execution_count": 11,
   "id": "f7e87069",
   "metadata": {},
   "outputs": [
    {
     "name": "stdout",
     "output_type": "stream",
     "text": [
      "1234\n",
      "Given number is: 1234\n",
      "Reverse of a number is: 4321\n",
      "\n"
     ]
    }
   ],
   "source": [
    "n=int(input())\n",
    "r=0\n",
    "p=n\n",
    "while n!=0:\n",
    "    r=r*10+n%10\n",
    "    n//=10\n",
    "print(\"Given number is: {}\\nReverse of a number is: {}\\n\".format(p,r))\n",
    "\n",
    "    "
   ]
  },
  {
   "cell_type": "markdown",
   "id": "d39513cd",
   "metadata": {},
   "source": [
    "## jumping s tatements\n",
    "    - break -> exit\n",
    "    - continue -> skip\n",
    "    - pass -> skip nothing will be printed\n",
    "    - return -> return values to be sent for functions"
   ]
  },
  {
   "cell_type": "code",
   "execution_count": 12,
   "id": "e55b3c55",
   "metadata": {},
   "outputs": [
    {
     "name": "stdout",
     "output_type": "stream",
     "text": [
      "10\n",
      "0,1,2,3,4,5,6,7,8,9,10,"
     ]
    }
   ],
   "source": [
    "n=int(input())\n",
    "for k in range(n+1):\n",
    "    print(k,end=\",\")\n",
    "    "
   ]
  },
  {
   "cell_type": "code",
   "execution_count": 13,
   "id": "f55cdd0d",
   "metadata": {},
   "outputs": [
    {
     "name": "stdout",
     "output_type": "stream",
     "text": [
      "50\n",
      "0 1 2 3 4 5\n"
     ]
    }
   ],
   "source": [
    "n=int(input())\n",
    "for h in range(n):\n",
    "    if h==5:\n",
    "        break\n",
    "    else:\n",
    "        print(h,end=\" \")\n",
    "print(h)        "
   ]
  },
  {
   "cell_type": "code",
   "execution_count": 14,
   "id": "96459b43",
   "metadata": {},
   "outputs": [
    {
     "name": "stdout",
     "output_type": "stream",
     "text": [
      "30\n",
      "0 1 2 3 4 6 7 8 9 10 11 12 13 14 15 16 17 18 19 20 21 22 23 24 25 26 27 28 29 29\n"
     ]
    }
   ],
   "source": [
    "n=int(input())\n",
    "for h in range(n):\n",
    "    if h==5:\n",
    "        continue\n",
    "    else:\n",
    "        print(h,end=\" \")\n",
    "print(h)        "
   ]
  },
  {
   "cell_type": "code",
   "execution_count": 15,
   "id": "6042821a",
   "metadata": {},
   "outputs": [
    {
     "name": "stdout",
     "output_type": "stream",
     "text": [
      "23\n",
      "0,1,2,3,4,5,6,7,8,9,11,12,13,14,15,16,17,18,19,20,21,22,"
     ]
    }
   ],
   "source": [
    "n=int(input())\n",
    "for b in range(n):\n",
    "    if b==10:\n",
    "        pass\n",
    "    else:\n",
    "        print(b,end=\",\")\n",
    "    "
   ]
  },
  {
   "cell_type": "markdown",
   "id": "76e13efb",
   "metadata": {},
   "source": [
    "## Inner loops:\n",
    "    - loop within a loop\n",
    "```    \n",
    "    syntax:\n",
    "        for i in range():\n",
    "            for j in range():\n",
    "                if (conditional-n):\n",
    "                    //stmts\n",
    "                else:\n",
    "                    //stmts\n",
    "```                    "
   ]
  },
  {
   "cell_type": "markdown",
   "id": "25dbbecf",
   "metadata": {},
   "source": [
    "## Calender\n",
    "1-31\n",
    "r-5\n",
    "c-7\n",
    "step 1\n",
    "```\n",
    "01 02 03 04 05 06 07\n",
    "08 09 10 11 12 13 14\n",
    "15 16 17 18 19 20 21\n",
    "22 23 24 25 26 27 28\n",
    "29 30 31\n",
    "```"
   ]
  },
  {
   "cell_type": "code",
   "execution_count": 16,
   "id": "1a54d20a",
   "metadata": {},
   "outputs": [
    {
     "name": "stdout",
     "output_type": "stream",
     "text": [
      "01 02 03 04 05 06 07 \n",
      "08 09 10 11 12 13 14 \n",
      "15 16 17 18 19 20 21 \n",
      "22 23 24 25 26 27 28 \n",
      "29 30 31 \n"
     ]
    }
   ],
   "source": [
    "a=1\n",
    "for i in range(1,6):\n",
    "    for j in range(1,8):\n",
    "        if a<=31:\n",
    "            print(\"{:02}\".format(a),end=\" \")\n",
    "        else:\n",
    "            break\n",
    "        a+=1\n",
    "    print(end=\"\\n\")"
   ]
  },
  {
   "cell_type": "code",
   "execution_count": 18,
   "id": "c0c939c5",
   "metadata": {},
   "outputs": [
    {
     "name": "stdout",
     "output_type": "stream",
     "text": [
      "01 ** () ** ## ** 07 \n",
      "** () ## 11 ** 13 ** \n",
      "## ** 17 ** 19 ## () \n",
      "** 23 ** ## ** () ** \n",
      "29 ## 31 \n"
     ]
    }
   ],
   "source": [
    "a=1\n",
    "for i in range(1,6):\n",
    "    for j in range(1,8):\n",
    "        if a<=31:\n",
    "            if a%5==0     \n",
    "                print(\"##\",end=\" \")\n",
    "            elif a%2==0:\n",
    "                print(\"**\",end=\" \")\n",
    "            elif a%3==0:\n",
    "                print(\"()\",end=\" \")\n",
    "            else:\n",
    "                break\n",
    "            a+=1    \n",
    "        print(end=\"\\n\")"
   ]
  },
  {
   "cell_type": "code",
   "execution_count": null,
   "id": "1805c2a2",
   "metadata": {},
   "outputs": [],
   "source": []
  }
 ],
 "metadata": {
  "kernelspec": {
   "display_name": "Python 3",
   "language": "python",
   "name": "python3"
  },
  "language_info": {
   "codemirror_mode": {
    "name": "ipython",
    "version": 3
   },
   "file_extension": ".py",
   "mimetype": "text/x-python",
   "name": "python",
   "nbconvert_exporter": "python",
   "pygments_lexer": "ipython3",
   "version": "3.7.0"
  }
 },
 "nbformat": 4,
 "nbformat_minor": 5
}
