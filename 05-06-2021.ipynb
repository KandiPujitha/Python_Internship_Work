{
 "cells": [
  {
   "cell_type": "markdown",
   "id": "1f6f4dde",
   "metadata": {},
   "source": [
    "# Files ,Packages and modules"
   ]
  },
  {
   "cell_type": "markdown",
   "id": "16316750",
   "metadata": {},
   "source": [
    "# Files:\n",
    "    - to store values or data in permenanetly\n",
    "    - file format -> .py,.text,.java,.csv\n",
    "    - 3 modes\n",
    "        -read -> r -> if file doesnot exists it dispalys an error.if file exits it reads the data in a file.\n",
    "        - write ->w -> if file dosenot exists it creates a file with user defined filename.if file exists it writes toa file.pervoius data will be earised ans new data will ne added.\n",
    "        - append ->a -> if file dosenot exists it creates a file with user defined filename.if file exists it writes to afile .it will adds new data for existing ones.\n",
    "        - execute ->x -> if file is not exist with file name then it creates a file with user defined filename"
   ]
  },
  {
   "cell_type": "code",
   "execution_count": 1,
   "id": "654ce1c3",
   "metadata": {},
   "outputs": [],
   "source": [
    "with open('rawdata/sample.text','w') as ft:\n",
    "    ft.write(\"Hello Good evening to all\")\n",
    "    "
   ]
  },
  {
   "cell_type": "code",
   "execution_count": 7,
   "id": "56bfcb5a",
   "metadata": {},
   "outputs": [
    {
     "name": "stdout",
     "output_type": "stream",
     "text": [
      "Hello Good evening\n",
      "Welcome to APSSDC Programs\n"
     ]
    }
   ],
   "source": [
    "with open('rawdata/sample.text','r') as fr:\n",
    "    print(fr.read())"
   ]
  },
  {
   "cell_type": "code",
   "execution_count": 5,
   "id": "5757661d",
   "metadata": {},
   "outputs": [],
   "source": [
    "with open('rawdata/sample.text','a') as fa:\n",
    "    fa.write(\"\\nWelcome to APSSDC Programs\")\n",
    "    "
   ]
  },
  {
   "cell_type": "code",
   "execution_count": 8,
   "id": "c4aec099",
   "metadata": {},
   "outputs": [],
   "source": [
    "with open('rawdata/demo.text','a') as d:\n",
    "    d.write(\"\\nhi\")\n",
    "    "
   ]
  },
  {
   "cell_type": "code",
   "execution_count": 9,
   "id": "39b5869b",
   "metadata": {},
   "outputs": [],
   "source": [
    "with open('rawdata/sample1.text','x') as f:\n",
    "    with open('rawdata/sample2.text','w') as g:\n",
    "        g.write(\"welcome to class\")"
   ]
  },
  {
   "cell_type": "markdown",
   "id": "d3bcc548",
   "metadata": {},
   "source": [
    "```\n",
    "Input.text:\n",
    "        20\n",
    "output.text:\n",
    "        enter number is:20\n",
    "        even numbers in range 20 is:\n",
    "```            "
   ]
  },
  {
   "cell_type": "code",
   "execution_count": 11,
   "id": "6bddc87a",
   "metadata": {},
   "outputs": [
    {
     "name": "stdout",
     "output_type": "stream",
     "text": [
      "enter a range: 2\n",
      "Enter a name: raju\n",
      "Enter a name: rani\n"
     ]
    }
   ],
   "source": [
    "with open('rawdata/Names.csv','w') as y:\n",
    "    n=int(input(\"enter a range: \"))\n",
    "    for j in range(1,n+1):\n",
    "        m=input(\"Enter a name: \")\n",
    "        y.write(m+\"\\n\")"
   ]
  },
  {
   "cell_type": "code",
   "execution_count": 12,
   "id": "69de4b21",
   "metadata": {},
   "outputs": [
    {
     "name": "stdout",
     "output_type": "stream",
     "text": [
      "['_CHUNK_SIZE', '__class__', '__del__', '__delattr__', '__dict__', '__dir__', '__doc__', '__enter__', '__eq__', '__exit__', '__format__', '__ge__', '__getattribute__', '__getstate__', '__gt__', '__hash__', '__init__', '__init_subclass__', '__iter__', '__le__', '__lt__', '__ne__', '__new__', '__next__', '__reduce__', '__reduce_ex__', '__repr__', '__setattr__', '__sizeof__', '__str__', '__subclasshook__', '_checkClosed', '_checkReadable', '_checkSeekable', '_checkWritable', '_finalizing', 'buffer', 'close', 'closed', 'detach', 'encoding', 'errors', 'fileno', 'flush', 'isatty', 'line_buffering', 'mode', 'name', 'newlines', 'read', 'readable', 'readline', 'readlines', 'reconfigure', 'seek', 'seekable', 'tell', 'truncate', 'writable', 'write', 'write_through', 'writelines']\n"
     ]
    }
   ],
   "source": [
    "print(dir(y))"
   ]
  },
  {
   "cell_type": "code",
   "execution_count": 16,
   "id": "67a6accb",
   "metadata": {},
   "outputs": [
    {
     "name": "stdout",
     "output_type": "stream",
     "text": [
      "['raju', 'rani']\n"
     ]
    }
   ],
   "source": [
    "with open('rawdata/Names.csv','r') as k:\n",
    "    s=k.readlines()\n",
    "    q=[]\n",
    "    for v in s:\n",
    "        q.append(v.split('\\n')[0])\n",
    "    print(q)"
   ]
  },
  {
   "cell_type": "code",
   "execution_count": 18,
   "id": "e242c010",
   "metadata": {},
   "outputs": [
    {
     "name": "stdout",
     "output_type": "stream",
     "text": [
      "enter a range: 12\n"
     ]
    }
   ],
   "source": [
    "with open('rawdata/input.text','w') as fw:\n",
    "    fw.write(input(\"enter a range: \"))"
   ]
  },
  {
   "cell_type": "code",
   "execution_count": 25,
   "id": "a05ce603",
   "metadata": {},
   "outputs": [],
   "source": [
    "with open('rawdata/input.text','r') as g:\n",
    "    f=g.readlines()\n",
    "    with open('rawdata\\output.text','w') as wy:\n",
    "        wy.write(\"enter number is: {}\\n\".format(f[0]))\n",
    "        x=[]\n",
    "        for n in range(1,int(f[0])+1):\n",
    "            if n%2==0:\n",
    "                h=str(n)+\",\"\n",
    "                x.append(h)\n",
    "        t=\" \".join(x)\n",
    "        wy.write(\"even numbers in range {} is: {}\".format(f[0],t))"
   ]
  },
  {
   "cell_type": "code",
   "execution_count": null,
   "id": "383ca076",
   "metadata": {},
   "outputs": [],
   "source": [
    "```\n",
    "Task:\n",
    "    sheet ->\n",
    "        field -> name,time in seconds(minutes)\n",
    "        roll-name-collgecode\n",
    "        19KQ1A0508-pujitha-pace => 100\n",
    "output.csv\n",
    "    rollnumber    time\n",
    "    -----------    100\n",
    "not considered .csv  \n",
    "    rollnumber     time\n",
    "```    ------------     ---"
   ]
  },
  {
   "cell_type": "code",
   "execution_count": null,
   "id": "e5bbd5eb",
   "metadata": {},
   "outputs": [],
   "source": []
  },
  {
   "cell_type": "code",
   "execution_count": null,
   "id": "7127687f",
   "metadata": {},
   "outputs": [],
   "source": []
  }
 ],
 "metadata": {
  "kernelspec": {
   "display_name": "Python 3",
   "language": "python",
   "name": "python3"
  },
  "language_info": {
   "codemirror_mode": {
    "name": "ipython",
    "version": 3
   },
   "file_extension": ".py",
   "mimetype": "text/x-python",
   "name": "python",
   "nbconvert_exporter": "python",
   "pygments_lexer": "ipython3",
   "version": "3.7.0"
  }
 },
 "nbformat": 4,
 "nbformat_minor": 5
}
