{
 "cells": [
  {
   "cell_type": "code",
   "execution_count": 1,
   "id": "27e0dac1",
   "metadata": {},
   "outputs": [
    {
     "name": "stdout",
     "output_type": "stream",
     "text": [
      "Enter a value: 23\n",
      "Enter a name: puja\n",
      "Entered number is: 23\n",
      "Entered Name is: puja\n"
     ]
    }
   ],
   "source": [
    "n=int(input('Enter a value: '))\n",
    "m=input(\"Enter a name: \")\n",
    "print(\"Entered number is: %d\"%n)\n",
    "print(\"Entered Name is: %s\"%m)"
   ]
  },
  {
   "cell_type": "code",
   "execution_count": 2,
   "id": "893720e1",
   "metadata": {},
   "outputs": [
    {
     "name": "stdout",
     "output_type": "stream",
     "text": [
      "Entered number is: 23 and Entered name is: puja\n"
     ]
    }
   ],
   "source": [
    "print(\"Entered number is: %d and Entered name is: %s\"%(n,m))"
   ]
  },
  {
   "cell_type": "code",
   "execution_count": 3,
   "id": "fc9c19e8",
   "metadata": {},
   "outputs": [
    {
     "name": "stdout",
     "output_type": "stream",
     "text": [
      "entered number is: 23 and entered name is: puja\n",
      "enterd number is: 23 and entered nmae is: puja\n"
     ]
    }
   ],
   "source": [
    "print(\"entered number is: {} and entered name is: {}\".format(n,m))\n",
    "print(\"enterd number is: {0} and entered nmae is: {1}\".format(n,m))"
   ]
  },
  {
   "cell_type": "markdown",
   "id": "3c12a61e",
   "metadata": {},
   "source": [
    "## operators:\n",
    "   - arithmetic -> +,-,*,/,%,floor division(// -> exact integer), expotential(** => pow())\n",
    "   - logical -> AND,OR,NOT\n",
    "   - bitwise -> &&,||,>>,<<\n",
    "   - relational -> ==,!=,>=,<=,<,>\n",
    "   - assignment -> +=,-=,*=,/=\n",
    "   - membership -> in ,not in\n",
    "   - identity -> is,is not"
   ]
  },
  {
   "cell_type": "code",
   "execution_count": 5,
   "id": "ba6c21ae",
   "metadata": {},
   "outputs": [
    {
     "name": "stdout",
     "output_type": "stream",
     "text": [
      "5\n"
     ]
    }
   ],
   "source": [
    "a=20\n",
    "print(a>>2)"
   ]
  },
  {
   "cell_type": "markdown",
   "id": "2683db26",
   "metadata": {},
   "source": [
    "# Conditional statements:\n",
    "    - to check whether a given condition is either true or false\n",
    "    - if,nested if,if-else,elif ladder"
   ]
  },
  {
   "cell_type": "markdown",
   "id": "7e2116ed",
   "metadata": {},
   "source": [
    "## if - > Single Case[t or f]\n",
    "```` syntax:\n",
    "              if (condition):\n",
    "              // statement"
   ]
  },
  {
   "cell_type": "code",
   "execution_count": 6,
   "id": "4a02f64a",
   "metadata": {},
   "outputs": [
    {
     "name": "stdout",
     "output_type": "stream",
     "text": [
      "24\n"
     ]
    }
   ],
   "source": [
    "n=int(input())\n",
    "if n==45:\n",
    "    print(\"entered value is: {}\".format(n))\n",
    "\n",
    "print(\"entered value is: {}\".format(n))\n",
    "    \n",
    "    "
   ]
  },
  {
   "cell_type": "markdown",
   "id": "b8bbdab5",
   "metadata": {},
   "source": [
    "## if-else -> two cases[t or f]\n",
    "````\n",
    "      syntax:\n",
    "             if (condition-1):\n",
    "                  //true statement\n",
    "             else:\n",
    "                  // false statement     \n",
    "````             "
   ]
  },
  {
   "cell_type": "code",
   "execution_count": 7,
   "id": "10768265",
   "metadata": {},
   "outputs": [
    {
     "name": "stdout",
     "output_type": "stream",
     "text": [
      "12\n",
      "23\n",
      "enterd values 12 is not equal to 23 \n"
     ]
    }
   ],
   "source": [
    "k=int(input())\n",
    "m=int(input())\n",
    "if k==m:\n",
    "    print(\"enterd values {} and {} are equal\".format(k,m))\n",
    "else:\n",
    "    print(\"enterd values {} is not equal to {} \".format(k,m))"
   ]
  },
  {
   "cell_type": "markdown",
   "id": "6da7e3f2",
   "metadata": {},
   "source": [
    "## Nested if [if within an if] -> one or more cases\n",
    "````\n",
    "     syntax:\n",
    "             if (condition-1):\n",
    "                 if(condition-2):\n",
    "                     //statement-1\n",
    "              if (condition-1):\n",
    "                  if(condition-2):\n",
    "                      //statement-1\n",
    "                   else:\n",
    "                       //stmt-1\n",
    "                    else:\n",
    "                        //stmt-3\n",
    "````                        "
   ]
  },
  {
   "cell_type": "code",
   "execution_count": 12,
   "id": "987d0952",
   "metadata": {},
   "outputs": [
    {
     "ename": "SyntaxError",
     "evalue": "invalid syntax (<ipython-input-12-0aedfe521544>, line 7)",
     "output_type": "error",
     "traceback": [
      "\u001b[1;36m  File \u001b[1;32m\"<ipython-input-12-0aedfe521544>\"\u001b[1;36m, line \u001b[1;32m7\u001b[0m\n\u001b[1;33m    else:\u001b[0m\n\u001b[1;37m       ^\u001b[0m\n\u001b[1;31mSyntaxError\u001b[0m\u001b[1;31m:\u001b[0m invalid syntax\n"
     ]
    }
   ],
   "source": [
    "n=int(input())\n",
    "if (n<=200):\n",
    "    if(n==100):\n",
    "        print(\"entered value {} is equal to 100\".format(n))\n",
    "    else:\n",
    "        print(\"entered value {} is not equal to 100 but is lower than 200\".format(\n",
    "else:\n",
    "    print(\"entered value {} is grater than 200\".format(n))        "
   ]
  },
  {
   "cell_type": "markdown",
   "id": "4e2a6cdc",
   "metadata": {},
   "source": [
    "## elif -> two or n more cases\n",
    "```\n",
    "        syntax:\n",
    "                if (condition-1):\n",
    "                     // stmt-1\n",
    "                 elif(condition-2):\n",
    "                     // stmt-2\n",
    "                 elif(condition-n):\n",
    "                     //stmt-n\n",
    "                  else:\n",
    "                  \n",
    "````                     "
   ]
  },
  {
   "cell_type": "code",
   "execution_count": 20,
   "id": "4960b5db",
   "metadata": {},
   "outputs": [
    {
     "name": "stdout",
     "output_type": "stream",
     "text": [
      "30\n",
      "entered value 30 is divisible by 2\n"
     ]
    }
   ],
   "source": [
    "h=int(input())\n",
    "if h%4==0: \n",
    "    print(\"entered value {} is divisible by 4\".format(h))\n",
    "elif h%2==0 and h%4==0:\n",
    "    print(\"entered value {} is divsible by 2 and 4\".format(h))\n",
    "elif h%2==0:\n",
    "    print(\"entered value {} is divisible by 2\".format(h))\n",
    "else:\n",
    "    print(\"Entered value {} is not divisible by 2\".format(h))"
   ]
  },
  {
   "cell_type": "markdown",
   "id": "bd34cbe5",
   "metadata": {},
   "source": [
    "# control statement iterations ,loops ,repition\n",
    "- to control the flow of execution\n",
    "- for while"
   ]
  },
  {
   "cell_type": "markdown",
   "id": "1e226795",
   "metadata": {},
   "source": [
    "## for -> for particular Range =>[kown range]\n",
    "````\n",
    "    syntax:\n",
    "        for iteration_variable in Iterator:\n",
    "            //stmts\n",
    "         for iteration_variable in range():\n",
    "             //stmnts\n",
    "````                "
   ]
  },
  {
   "cell_type": "markdown",
   "id": "337ab954",
   "metadata": {},
   "source": [
    "### Range\n",
    "```\n",
    "    range(n):\n",
    "        -> by default it starts from 0 to n-1\n",
    "    range(n,m):\n",
    "            -> start range will starts from exactly at n and stops at m-1\n",
    "            =>range(4,8) =>4,5,6,7\n",
    "     range(n,m,s):\n",
    "             -> start range will starts from exactly at n and stops at m-1 and stepping to s\n",
    "             -> range(4,10,2)=> 4,6,8\n",
    "```             \n",
    "        "
   ]
  },
  {
   "cell_type": "code",
   "execution_count": 36,
   "id": "f1e49483",
   "metadata": {},
   "outputs": [
    {
     "name": "stdout",
     "output_type": "stream",
     "text": [
      "enter a range value: 20\n",
      "0,1,2,3,4,5,6,7,8,9,10,11,12,13,14,15,16,17,18,19,"
     ]
    }
   ],
   "source": [
    "n=int(input(\"enter a range value: \"))\n",
    "for b in range(n):\n",
    "    print(b,end=',')"
   ]
  },
  {
   "cell_type": "code",
   "execution_count": null,
   "id": "12b9142e",
   "metadata": {},
   "outputs": [],
   "source": [
    "n=int(input(\"enter a starting range value: \"))\n",
    "m=int(input(\"enter a ending range value: \"))\n",
    "for b in range(n,m):\n",
    "    print(b,end=',')"
   ]
  },
  {
   "cell_type": "code",
   "execution_count": 37,
   "id": "2773c0e0",
   "metadata": {},
   "outputs": [
    {
     "name": "stdout",
     "output_type": "stream",
     "text": [
      "enter a starting range value: 10\n",
      "enter a ending range value: 20\n",
      "enter a stepping value: 3\n",
      "10,13,16,19,"
     ]
    }
   ],
   "source": [
    "n=int(input(\"enter a starting range value: \"))\n",
    "m=int(input(\"enter a ending range value: \"))\n",
    "s=int(input(\"enter a stepping value: \"))\n",
    "for b in range(n,m,s):\n",
    "    print(b,end=',')"
   ]
  },
  {
   "cell_type": "code",
   "execution_count": null,
   "id": "a7cffe83",
   "metadata": {},
   "outputs": [],
   "source": []
  }
 ],
 "metadata": {
  "kernelspec": {
   "display_name": "Python 3",
   "language": "python",
   "name": "python3"
  },
  "language_info": {
   "codemirror_mode": {
    "name": "ipython",
    "version": 3
   },
   "file_extension": ".py",
   "mimetype": "text/x-python",
   "name": "python",
   "nbconvert_exporter": "python",
   "pygments_lexer": "ipython3",
   "version": "3.7.0"
  }
 },
 "nbformat": 4,
 "nbformat_minor": 5
}
