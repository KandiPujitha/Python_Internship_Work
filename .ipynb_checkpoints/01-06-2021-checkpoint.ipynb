{
 "cells": [
  {
   "cell_type": "markdown",
   "id": "b269538e",
   "metadata": {},
   "source": [
    "## list:\n",
    "    - it can stores diffrent data type elements\n",
    "    - it can be difined as [] and type castinf as list()\n",
    "    - it considts of index so slicing can be done\n",
    "    - it stores the value in given format\n",
    "    - in this the values can be changes\n",
    "    - it can stores duplicte elements"
   ]
  },
  {
   "cell_type": "markdown",
   "id": "fd62210a",
   "metadata": {},
   "source": [
    "## tuples\n",
    "    - it can stores different data type elements\n",
    "    - it can be defined as \"()\" and type casting as tuple()\n",
    "    - it consits of index and slicing can be done\n",
    "    - it this the values cant be changed\n",
    "    - in can stores duplicate values\n",
    "    "
   ]
  },
  {
   "cell_type": "markdown",
   "id": "5b7bc232",
   "metadata": {},
   "source": [
    "## set:\n",
    "    - it can stores different data type elements\n",
    "    - it can be defined as\"{}\" and type casting as \"set()\" => {a} => set\n",
    "    - it does consists of index and slicing cant be done\n",
    "    - it stores the value in given format but it prints in alphabetical order\n",
    "    - inthis the values can be changes\n",
    "    - it can stores the duplicate elements\n",
    "    "
   ]
  },
  {
   "cell_type": "markdown",
   "id": "c1c9eb9a",
   "metadata": {},
   "source": [
    "## Dictionary:\n",
    "    - it can stores thr different data type elements but it follows key and values\n",
    "    - it can be defined as \"{}\" by drfault as type casting as \"dict()\"\n",
    "    - it consists of index but it can be applicate for either keys or values\n",
    "    - it stores the values in the given format\n",
    "    - in this the values can be changed\n",
    "    - it can stores the duplicate keys and duplicate values"
   ]
  },
  {
   "cell_type": "markdown",
   "id": "d35dc948",
   "metadata": {},
   "source": [
    "## LIST:"
   ]
  },
  {
   "cell_type": "code",
   "execution_count": 2,
   "id": "ae4e422b",
   "metadata": {},
   "outputs": [
    {
     "name": "stdout",
     "output_type": "stream",
     "text": [
      "[12, 23.4, 'rani', 34, 'raju'] <class 'list'>\n"
     ]
    }
   ],
   "source": [
    "k=[12,23.4,\"rani\",34,\"raju\"]\n",
    "print(k,type(k))"
   ]
  },
  {
   "cell_type": "code",
   "execution_count": 3,
   "id": "f9ff07a7",
   "metadata": {},
   "outputs": [
    {
     "name": "stdout",
     "output_type": "stream",
     "text": [
      "<class 'int'>\n"
     ]
    }
   ],
   "source": [
    "a=15\n",
    "print(type(a))"
   ]
  },
  {
   "cell_type": "code",
   "execution_count": 4,
   "id": "9ceeb2be",
   "metadata": {},
   "outputs": [
    {
     "name": "stdout",
     "output_type": "stream",
     "text": [
      "rani\n"
     ]
    }
   ],
   "source": [
    "print(k[2]) ## indexing starts at zero"
   ]
  },
  {
   "cell_type": "code",
   "execution_count": 5,
   "id": "f53862bf",
   "metadata": {},
   "outputs": [
    {
     "name": "stdout",
     "output_type": "stream",
     "text": [
      "<class 'list'>\n"
     ]
    }
   ],
   "source": [
    "print(type(k))"
   ]
  },
  {
   "cell_type": "code",
   "execution_count": 6,
   "id": "8b801e5d",
   "metadata": {},
   "outputs": [
    {
     "name": "stdout",
     "output_type": "stream",
     "text": [
      "['__add__', '__class__', '__contains__', '__delattr__', '__delitem__', '__dir__', '__doc__', '__eq__', '__format__', '__ge__', '__getattribute__', '__getitem__', '__gt__', '__hash__', '__iadd__', '__imul__', '__init__', '__init_subclass__', '__iter__', '__le__', '__len__', '__lt__', '__mul__', '__ne__', '__new__', '__reduce__', '__reduce_ex__', '__repr__', '__reversed__', '__rmul__', '__setattr__', '__setitem__', '__sizeof__', '__str__', '__subclasshook__', 'append', 'clear', 'copy', 'count', 'extend', 'index', 'insert', 'pop', 'remove', 'reverse', 'sort']\n"
     ]
    }
   ],
   "source": [
    "print(dir(k))"
   ]
  },
  {
   "cell_type": "code",
   "execution_count": 7,
   "id": "31aaeac7",
   "metadata": {},
   "outputs": [
    {
     "name": "stdout",
     "output_type": "stream",
     "text": [
      "['__add__', '__class__', '__contains__', '__delattr__', '__delitem__', '__dir__', '__doc__', '__eq__', '__format__', '__ge__', '__getattribute__', '__getitem__', '__gt__', '__hash__', '__iadd__', '__imul__', '__init__', '__init_subclass__', '__iter__', '__le__', '__len__', '__lt__', '__mul__', '__ne__', '__new__', '__reduce__', '__reduce_ex__', '__repr__', '__reversed__', '__rmul__', '__setattr__', '__setitem__', '__sizeof__', '__str__', '__subclasshook__', 'append', 'clear', 'copy', 'count', 'extend', 'index', 'insert', 'pop', 'remove', 'reverse', 'sort']\n"
     ]
    }
   ],
   "source": [
    "print(dir(list))"
   ]
  },
  {
   "cell_type": "code",
   "execution_count": 8,
   "id": "c69ddf77",
   "metadata": {},
   "outputs": [
    {
     "name": "stdout",
     "output_type": "stream",
     "text": [
      "[12, 45.6]\n",
      "mani\n",
      "[12, 45.6, 'mani']\n"
     ]
    }
   ],
   "source": [
    "m=[12,45.6]\n",
    "print(m)\n",
    "n=input()\n",
    "m.append(n)\n",
    "print(m)"
   ]
  },
  {
   "cell_type": "code",
   "execution_count": 9,
   "id": "b700f3de",
   "metadata": {},
   "outputs": [
    {
     "data": {
      "text/plain": [
       "[12, 45.6, 'mani']"
      ]
     },
     "execution_count": 9,
     "metadata": {},
     "output_type": "execute_result"
    }
   ],
   "source": [
    "m"
   ]
  },
  {
   "cell_type": "code",
   "execution_count": 13,
   "id": "926d27e9",
   "metadata": {},
   "outputs": [
    {
     "name": "stdout",
     "output_type": "stream",
     "text": [
      "['teja', 21, 234, 34.67] <class 'list'>\n",
      "['teja', 21, 234, 34.67]\n",
      "['teja', 21, 234, 34.67, 'puja']\n",
      "['teja', 21, 234, 34.67]\n",
      "['teja', 21, 234, 34.67, 'puja']\n",
      "['teja', 21, 234, 34.67, 'ravi']\n"
     ]
    }
   ],
   "source": [
    "n=[\"teja\",21,234,34.67]\n",
    "b=n.copy()\n",
    "print(b,type(b))\n",
    "print(n)\n",
    "n.append(\"puja\")\n",
    "print(n)\n",
    "print(b)\n",
    "b.append(\"ravi\")\n",
    "print(n)\n",
    "print(b)"
   ]
  },
  {
   "cell_type": "code",
   "execution_count": 20,
   "id": "8f6e607c",
   "metadata": {},
   "outputs": [
    {
     "name": "stdout",
     "output_type": "stream",
     "text": [
      "12 count is: 1\n",
      "23 count is: 1\n",
      "45 count is: 1\n",
      "67 count is: 1\n",
      "john count is: 1\n"
     ]
    }
   ],
   "source": [
    "p=[12,23,45,67,\"john\"]\n",
    "#p.count(12)\n",
    "for n in p:\n",
    "    print(\"{} count is: {}\".format(n,p.count(n)))"
   ]
  },
  {
   "cell_type": "code",
   "execution_count": 19,
   "id": "c4f0810d",
   "metadata": {},
   "outputs": [
    {
     "name": "stdout",
     "output_type": "stream",
     "text": [
      "0\n",
      "1\n",
      "2\n",
      "3\n",
      "4\n"
     ]
    }
   ],
   "source": [
    "for b in range(len(p)):\n",
    "    print(b)"
   ]
  },
  {
   "cell_type": "code",
   "execution_count": 23,
   "id": "a0d677fb",
   "metadata": {},
   "outputs": [
    {
     "name": "stdout",
     "output_type": "stream",
     "text": [
      "[45.23, 34, 56.7, 'somu', 'prasad', 'teju', 'meena']\n",
      "['prasad', 'teju', 'meena']\n",
      "[45.23, 34, 56.7, 'somu', 'prasad', 'teju', 'meena']\n",
      "['prasad', 'teju', 'meena', 200]\n"
     ]
    }
   ],
   "source": [
    "v=[45.23,34,56.7,\"somu\"]\n",
    "b=[\"prasad\",\"teju\",\"meena\"]\n",
    "v.extend(b)\n",
    "print(v)\n",
    "print(b)\n",
    "b.append(200)\n",
    "print(v)\n",
    "print(b)"
   ]
  },
  {
   "cell_type": "code",
   "execution_count": 26,
   "id": "d3ea2bba",
   "metadata": {},
   "outputs": [
    {
     "data": {
      "text/plain": [
       "0"
      ]
     },
     "execution_count": 26,
     "metadata": {},
     "output_type": "execute_result"
    }
   ],
   "source": [
    "v.index(45.23)"
   ]
  },
  {
   "cell_type": "code",
   "execution_count": 27,
   "id": "c700abed",
   "metadata": {},
   "outputs": [
    {
     "data": {
      "text/plain": [
       "3"
      ]
     },
     "execution_count": 27,
     "metadata": {},
     "output_type": "execute_result"
    }
   ],
   "source": [
    "v.index(\"somu\")"
   ]
  },
  {
   "cell_type": "code",
   "execution_count": 28,
   "id": "6a84dd2e",
   "metadata": {},
   "outputs": [
    {
     "name": "stdout",
     "output_type": "stream",
     "text": [
      "['raju', 12, 13, 14, 15]\n"
     ]
    }
   ],
   "source": [
    "x=[12,13,14,15]          ## first indexing after insert value\n",
    "x.insert(0,\"raju\")\n",
    "print(x)"
   ]
  },
  {
   "cell_type": "code",
   "execution_count": 29,
   "id": "3f9bd031",
   "metadata": {},
   "outputs": [
    {
     "data": {
      "text/plain": [
       "['raju', 12, 13, 14, 15]"
      ]
     },
     "execution_count": 29,
     "metadata": {},
     "output_type": "execute_result"
    }
   ],
   "source": [
    "x"
   ]
  },
  {
   "cell_type": "code",
   "execution_count": 30,
   "id": "9d9a4680",
   "metadata": {},
   "outputs": [
    {
     "name": "stdout",
     "output_type": "stream",
     "text": [
      "['raju', 12, 13, 14, 15]\n",
      "['raju', 12, 13, 14]\n"
     ]
    }
   ],
   "source": [
    "print(x)\n",
    "x.pop()\n",
    "print(x)"
   ]
  },
  {
   "cell_type": "code",
   "execution_count": 31,
   "id": "46915e28",
   "metadata": {},
   "outputs": [
    {
     "data": {
      "text/plain": [
       "13"
      ]
     },
     "execution_count": 31,
     "metadata": {},
     "output_type": "execute_result"
    }
   ],
   "source": [
    "x.pop(2)   ### indexing value is written"
   ]
  },
  {
   "cell_type": "code",
   "execution_count": 32,
   "id": "9346b312",
   "metadata": {},
   "outputs": [
    {
     "name": "stdout",
     "output_type": "stream",
     "text": [
      "['raju', 12, 14]\n"
     ]
    }
   ],
   "source": [
    "print(x)"
   ]
  },
  {
   "cell_type": "code",
   "execution_count": 33,
   "id": "1a94b4cf",
   "metadata": {},
   "outputs": [
    {
     "name": "stdout",
     "output_type": "stream",
     "text": [
      "[34, 45.67, 'vinay', 'gayathri', 'niharika']\n"
     ]
    }
   ],
   "source": [
    "y=[34,45.67,\"vinay\",\"gayathri\",\"niharika\"]\n",
    "print(y)"
   ]
  },
  {
   "cell_type": "code",
   "execution_count": 34,
   "id": "e4f6a424",
   "metadata": {},
   "outputs": [
    {
     "name": "stdout",
     "output_type": "stream",
     "text": [
      "[34, 45.67, 'vinay', 'gayathri', 'niharika']\n",
      "[34, 45.67, 'gayathri', 'niharika']\n"
     ]
    }
   ],
   "source": [
    "print(y)\n",
    "y.remove(\"vinay\")\n",
    "print(y)\n",
    "    "
   ]
  },
  {
   "cell_type": "code",
   "execution_count": 35,
   "id": "41663c07",
   "metadata": {},
   "outputs": [
    {
     "name": "stdout",
     "output_type": "stream",
     "text": [
      "[34, 45.67, 'gayathri', 'niharika']\n",
      "['niharika', 'gayathri', 45.67, 34]\n"
     ]
    }
   ],
   "source": [
    "print(y)\n",
    "y.reverse()\n",
    "print(y)"
   ]
  },
  {
   "cell_type": "code",
   "execution_count": 36,
   "id": "6823d597",
   "metadata": {},
   "outputs": [
    {
     "name": "stdout",
     "output_type": "stream",
     "text": [
      "['niharika', 'gayathri', 45.67, 34]\n"
     ]
    },
    {
     "ename": "TypeError",
     "evalue": "'<' not supported between instances of 'float' and 'str'",
     "output_type": "error",
     "traceback": [
      "\u001b[1;31m---------------------------------------------------------------------------\u001b[0m",
      "\u001b[1;31mTypeError\u001b[0m                                 Traceback (most recent call last)",
      "\u001b[1;32m<ipython-input-36-c687f6308bd4>\u001b[0m in \u001b[0;36m<module>\u001b[1;34m\u001b[0m\n\u001b[0;32m      1\u001b[0m \u001b[0mprint\u001b[0m\u001b[1;33m(\u001b[0m\u001b[0my\u001b[0m\u001b[1;33m)\u001b[0m\u001b[1;33m\u001b[0m\u001b[0m\n\u001b[1;32m----> 2\u001b[1;33m \u001b[0my\u001b[0m\u001b[1;33m.\u001b[0m\u001b[0msort\u001b[0m\u001b[1;33m(\u001b[0m\u001b[1;33m)\u001b[0m    \u001b[1;31m## same datatype values are supported in sort\u001b[0m\u001b[1;33m\u001b[0m\u001b[0m\n\u001b[0m\u001b[0;32m      3\u001b[0m \u001b[0mprint\u001b[0m\u001b[1;33m(\u001b[0m\u001b[0my\u001b[0m\u001b[1;33m)\u001b[0m\u001b[1;33m\u001b[0m\u001b[0m\n",
      "\u001b[1;31mTypeError\u001b[0m: '<' not supported between instances of 'float' and 'str'"
     ]
    }
   ],
   "source": [
    "print(y)\n",
    "y.sort()    ## same datatype values are supported in sort\n",
    "print(y)"
   ]
  },
  {
   "cell_type": "code",
   "execution_count": 37,
   "id": "f743662c",
   "metadata": {},
   "outputs": [
    {
     "name": "stdout",
     "output_type": "stream",
     "text": [
      "[12, 3, 4, 5]\n",
      "[3, 4, 5, 12]\n"
     ]
    }
   ],
   "source": [
    "p=[12,3,4,5]\n",
    "print(p)\n",
    "p.sort()\n",
    "print(p)"
   ]
  },
  {
   "cell_type": "code",
   "execution_count": 38,
   "id": "7419a8dc",
   "metadata": {},
   "outputs": [
    {
     "name": "stdout",
     "output_type": "stream",
     "text": [
      "[12.23, 3.89, 4.76, 5.0]\n",
      "[3.89, 4.76, 5.0, 12.23]\n"
     ]
    }
   ],
   "source": [
    "p=[12.23,3.89,4.76,5.0]\n",
    "print(p)\n",
    "p.sort()\n",
    "print(p)"
   ]
  },
  {
   "cell_type": "code",
   "execution_count": 40,
   "id": "8415314b",
   "metadata": {},
   "outputs": [
    {
     "name": "stdout",
     "output_type": "stream",
     "text": [
      "['puja', 'niha', 'teja']\n",
      "['niha', 'puja', 'teja']\n"
     ]
    }
   ],
   "source": [
    "s=[\"puja\",\"niha\",\"teja\"]\n",
    "print(s)\n",
    "s.sort()\n",
    "print(s)"
   ]
  },
  {
   "cell_type": "code",
   "execution_count": 41,
   "id": "de91d72d",
   "metadata": {},
   "outputs": [
    {
     "data": {
      "text/plain": [
       "['niha', 'puja', 'teja']"
      ]
     },
     "execution_count": 41,
     "metadata": {},
     "output_type": "execute_result"
    }
   ],
   "source": [
    "sorted(s)"
   ]
  },
  {
   "cell_type": "code",
   "execution_count": 42,
   "id": "e3acce2a",
   "metadata": {},
   "outputs": [
    {
     "name": "stdout",
     "output_type": "stream",
     "text": [
      "['niha', 'puja', 'teja']\n"
     ]
    }
   ],
   "source": [
    "print(s)"
   ]
  },
  {
   "cell_type": "code",
   "execution_count": 45,
   "id": "febe531e",
   "metadata": {},
   "outputs": [
    {
     "name": "stdout",
     "output_type": "stream",
     "text": [
      "[12, 3, 1200, 56]\n",
      "[3, 12, 56, 1200]\n"
     ]
    }
   ],
   "source": [
    "d=[12,3,1200,56]\n",
    "f=sorted(d)\n",
    "sorted(d)\n",
    "print(d)\n",
    "print(f)"
   ]
  },
  {
   "cell_type": "code",
   "execution_count": 46,
   "id": "65601a47",
   "metadata": {},
   "outputs": [
    {
     "name": "stdout",
     "output_type": "stream",
     "text": [
      "[12, 3, 1200, 56]\n",
      "[]\n"
     ]
    }
   ],
   "source": [
    "print(d)\n",
    "d.clear()\n",
    "print(d)"
   ]
  },
  {
   "cell_type": "code",
   "execution_count": 47,
   "id": "36b10a2b",
   "metadata": {},
   "outputs": [
    {
     "name": "stdout",
     "output_type": "stream",
     "text": [
      "[56, 87]\n"
     ]
    },
    {
     "ename": "NameError",
     "evalue": "name 'f' is not defined",
     "output_type": "error",
     "traceback": [
      "\u001b[1;31m---------------------------------------------------------------------------\u001b[0m",
      "\u001b[1;31mNameError\u001b[0m                                 Traceback (most recent call last)",
      "\u001b[1;32m<ipython-input-47-40cc10a8f220>\u001b[0m in \u001b[0;36m<module>\u001b[1;34m\u001b[0m\n\u001b[0;32m      2\u001b[0m \u001b[0mprint\u001b[0m\u001b[1;33m(\u001b[0m\u001b[0mf\u001b[0m\u001b[1;33m)\u001b[0m\u001b[1;33m\u001b[0m\u001b[0m\n\u001b[0;32m      3\u001b[0m \u001b[1;32mdel\u001b[0m \u001b[0mf\u001b[0m\u001b[1;33m\u001b[0m\u001b[0m\n\u001b[1;32m----> 4\u001b[1;33m \u001b[0mprint\u001b[0m\u001b[1;33m(\u001b[0m\u001b[0mf\u001b[0m\u001b[1;33m)\u001b[0m\u001b[1;33m\u001b[0m\u001b[0m\n\u001b[0m",
      "\u001b[1;31mNameError\u001b[0m: name 'f' is not defined"
     ]
    }
   ],
   "source": [
    "f=[56,87]\n",
    "print(f)\n",
    "del f\n",
    "print(f)"
   ]
  },
  {
   "cell_type": "markdown",
   "id": "cb6557c0",
   "metadata": {},
   "source": [
    "# TUPLE :"
   ]
  },
  {
   "cell_type": "code",
   "execution_count": 48,
   "id": "6804d706",
   "metadata": {},
   "outputs": [
    {
     "name": "stdout",
     "output_type": "stream",
     "text": [
      "(12, 34, 45, 'raju') <class 'tuple'>\n"
     ]
    }
   ],
   "source": [
    "s=(12,34,45,45,\"raju\")\n",
    "print(s,type(s))"
   ]
  },
  {
   "cell_type": "code",
   "execution_count": 50,
   "id": "e005ad36",
   "metadata": {},
   "outputs": [
    {
     "name": "stdout",
     "output_type": "stream",
     "text": [
      "['__add__', '__class__', '__contains__', '__delattr__', '__dir__', '__doc__', '__eq__', '__format__', '__ge__', '__getattribute__', '__getitem__', '__getnewargs__', '__gt__', '__hash__', '__init__', '__init_subclass__', '__iter__', '__le__', '__len__', '__lt__', '__mul__', '__ne__', '__new__', '__reduce__', '__reduce_ex__', '__repr__', '__rmul__', '__setattr__', '__sizeof__', '__str__', '__subclasshook__', 'count', 'index']\n"
     ]
    }
   ],
   "source": [
    "print(dir(tuple))"
   ]
  },
  {
   "cell_type": "code",
   "execution_count": 51,
   "id": "7e08b0f2",
   "metadata": {},
   "outputs": [
    {
     "name": "stdout",
     "output_type": "stream",
     "text": [
      "(12, 34, 45, 'raju')\n",
      "1\n",
      "(12, 34, 45, 'raju')\n"
     ]
    }
   ],
   "source": [
    "print(s)\n",
    "print(s.count(12))\n",
    "print(s)"
   ]
  },
  {
   "cell_type": "code",
   "execution_count": 52,
   "id": "992d48f7",
   "metadata": {},
   "outputs": [
    {
     "data": {
      "text/plain": [
       "0"
      ]
     },
     "execution_count": 52,
     "metadata": {},
     "output_type": "execute_result"
    }
   ],
   "source": [
    "s.index(12)"
   ]
  },
  {
   "cell_type": "code",
   "execution_count": 54,
   "id": "1ade11c3",
   "metadata": {},
   "outputs": [
    {
     "name": "stdout",
     "output_type": "stream",
     "text": [
      "[45, 34, 78, 90, 12, 2] <class 'list'>\n",
      "(2, 12, 34, 45, 78, 90)\n"
     ]
    }
   ],
   "source": [
    "p=(45,34,78,90,12,2)\n",
    "d=list(p)\n",
    "print(d,type(d))\n",
    "d.sort()\n",
    "i=tuple(d)\n",
    "print(i)"
   ]
  },
  {
   "cell_type": "code",
   "execution_count": null,
   "id": "d53660bf",
   "metadata": {},
   "outputs": [],
   "source": []
  }
 ],
 "metadata": {
  "kernelspec": {
   "display_name": "Python 3",
   "language": "python",
   "name": "python3"
  },
  "language_info": {
   "codemirror_mode": {
    "name": "ipython",
    "version": 3
   },
   "file_extension": ".py",
   "mimetype": "text/x-python",
   "name": "python",
   "nbconvert_exporter": "python",
   "pygments_lexer": "ipython3",
   "version": "3.7.0"
  }
 },
 "nbformat": 4,
 "nbformat_minor": 5
}
