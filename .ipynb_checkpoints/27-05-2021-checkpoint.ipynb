{
 "cells": [
  {
   "cell_type": "code",
   "execution_count": 5,
   "id": "61fdc24e",
   "metadata": {},
   "outputs": [
    {
     "name": "stdout",
     "output_type": "stream",
     "text": [
      "10\n",
      "19KQ1A0500\n",
      "19KQ1A0501\n",
      "19KQ1A0502\n",
      "19KQ1A0503\n",
      "19KQ1A0504\n",
      "19KQ1A0505\n",
      "19KQ1A0506\n",
      "19KQ1A0507\n",
      "19KQ1A0508\n",
      "19KQ1A0509\n"
     ]
    }
   ],
   "source": [
    "n=int(input())\n",
    "for j in range(n):\n",
    "    print(\"19KQ1A05{:02}\".format(j))\n",
    "    "
   ]
  },
  {
   "cell_type": "code",
   "execution_count": 9,
   "id": "a9abbca9",
   "metadata": {},
   "outputs": [
    {
     "ename": "SyntaxError",
     "evalue": "invalid syntax (<ipython-input-9-a6490f5ed2ce>, line 3)",
     "output_type": "error",
     "traceback": [
      "\u001b[1;36m  File \u001b[1;32m\"<ipython-input-9-a6490f5ed2ce>\"\u001b[1;36m, line \u001b[1;32m3\u001b[0m\n\u001b[1;33m    ````\u001b[0m\n\u001b[1;37m    ^\u001b[0m\n\u001b[1;31mSyntaxError\u001b[0m\u001b[1;31m:\u001b[0m invalid syntax\n"
     ]
    }
   ],
   "source": [
    "## while-> unknown ranges,known ranges\n",
    "    \n",
    "````\n",
    "    syntax:\n",
    "        variable init\n",
    "        while (condition):\n",
    "            //stmt\n",
    "            // incr/decr\n",
    "````          "
   ]
  },
  {
   "cell_type": "code",
   "execution_count": null,
   "id": "fce29647",
   "metadata": {},
   "outputs": [],
   "source": [
    "n=int(input())  ## backward\n",
    "while n!=10:\n",
    "    print(n,end=\" \")\n",
    "    n=n-1"
   ]
  },
  {
   "cell_type": "code",
   "execution_count": 10,
   "id": "85d2927b",
   "metadata": {},
   "outputs": [
    {
     "name": "stdout",
     "output_type": "stream",
     "text": [
      "20\n",
      "1 2 3 4 5 6 7 8 9 10 11 12 13 14 15 16 17 18 19 "
     ]
    }
   ],
   "source": [
    "m=int(input())   ## farword\n",
    "i=1\n",
    "while m!=i:\n",
    "    print(i,end=\" \")\n",
    "    i=i+1"
   ]
  },
  {
   "cell_type": "code",
   "execution_count": 11,
   "id": "a76c9881",
   "metadata": {},
   "outputs": [
    {
     "name": "stdout",
     "output_type": "stream",
     "text": [
      "1234\n",
      "Given number is: 1234\n",
      "Reverse of a number is: 4321\n",
      "\n"
     ]
    }
   ],
   "source": [
    "n=int(input())\n",
    "r=0\n",
    "p=n\n",
    "while n!=0:\n",
    "    r=r*10+n%10\n",
    "    n//=10\n",
    "print(\"Given number is: {}\\nReverse of a number is: {}\\n\".format(p,r))\n",
    "\n",
    "    "
   ]
  },
  {
   "cell_type": "markdown",
   "id": "153dbfb1",
   "metadata": {},
   "source": [
    "## jumping s tatements\n",
    "    - break -> exit\n",
    "    - continue -> skip\n",
    "    - pass -> skip nothing will be printed\n",
    "    - return -> return values to be sent for functions"
   ]
  },
  {
   "cell_type": "code",
   "execution_count": 12,
   "id": "cbe567ab",
   "metadata": {},
   "outputs": [
    {
     "name": "stdout",
     "output_type": "stream",
     "text": [
      "10\n",
      "0,1,2,3,4,5,6,7,8,9,10,"
     ]
    }
   ],
   "source": [
    "n=int(input())\n",
    "for k in range(n+1):\n",
    "    print(k,end=\",\")\n",
    "    "
   ]
  },
  {
   "cell_type": "code",
   "execution_count": 13,
   "id": "77c1b99e",
   "metadata": {},
   "outputs": [
    {
     "name": "stdout",
     "output_type": "stream",
     "text": [
      "50\n",
      "0 1 2 3 4 5\n"
     ]
    }
   ],
   "source": [
    "n=int(input())\n",
    "for h in range(n):\n",
    "    if h==5:\n",
    "        break\n",
    "    else:\n",
    "        print(h,end=\" \")\n",
    "print(h)        "
   ]
  },
  {
   "cell_type": "code",
   "execution_count": 14,
   "id": "92f7e511",
   "metadata": {},
   "outputs": [
    {
     "name": "stdout",
     "output_type": "stream",
     "text": [
      "30\n",
      "0 1 2 3 4 6 7 8 9 10 11 12 13 14 15 16 17 18 19 20 21 22 23 24 25 26 27 28 29 29\n"
     ]
    }
   ],
   "source": [
    "n=int(input())\n",
    "for h in range(n):\n",
    "    if h==5:\n",
    "        continue\n",
    "    else:\n",
    "        print(h,end=\" \")\n",
    "print(h)        "
   ]
  },
  {
   "cell_type": "code",
   "execution_count": 15,
   "id": "eb1d2c43",
   "metadata": {},
   "outputs": [
    {
     "name": "stdout",
     "output_type": "stream",
     "text": [
      "23\n",
      "0,1,2,3,4,5,6,7,8,9,11,12,13,14,15,16,17,18,19,20,21,22,"
     ]
    }
   ],
   "source": [
    "n=int(input())\n",
    "for b in range(n):\n",
    "    if b==10:\n",
    "        pass\n",
    "    else:\n",
    "        print(b,end=\",\")\n",
    "    "
   ]
  },
  {
   "cell_type": "code",
   "execution_count": null,
   "id": "73afe2bc",
   "metadata": {},
   "outputs": [],
   "source": []
  }
 ],
 "metadata": {
  "kernelspec": {
   "display_name": "Python 3",
   "language": "python",
   "name": "python3"
  },
  "language_info": {
   "codemirror_mode": {
    "name": "ipython",
    "version": 3
   },
   "file_extension": ".py",
   "mimetype": "text/x-python",
   "name": "python",
   "nbconvert_exporter": "python",
   "pygments_lexer": "ipython3",
   "version": "3.7.0"
  }
 },
 "nbformat": 4,
 "nbformat_minor": 5
}
