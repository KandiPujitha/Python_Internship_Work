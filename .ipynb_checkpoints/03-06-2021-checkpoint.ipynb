{
 "cells": [
  {
   "cell_type": "markdown",
   "id": "a2b2ce12",
   "metadata": {},
   "source": [
    "# Set:"
   ]
  },
  {
   "cell_type": "code",
   "execution_count": 1,
   "id": "4b1dddde",
   "metadata": {},
   "outputs": [
    {
     "name": "stdout",
     "output_type": "stream",
     "text": [
      "{'raju', 67, 'a', 45, 23}\n"
     ]
    }
   ],
   "source": [
    "g={'a',23,45,67,\"raju\"}\n",
    "print(g)   # unorder format follows by set. no particular order"
   ]
  },
  {
   "cell_type": "code",
   "execution_count": 2,
   "id": "84463cec",
   "metadata": {},
   "outputs": [
    {
     "data": {
      "text/plain": [
       "{23, 45, 67, 'a', 'raju'}"
      ]
     },
     "execution_count": 2,
     "metadata": {},
     "output_type": "execute_result"
    }
   ],
   "source": [
    "g"
   ]
  },
  {
   "cell_type": "code",
   "execution_count": 3,
   "id": "88d47839",
   "metadata": {},
   "outputs": [
    {
     "name": "stdout",
     "output_type": "stream",
     "text": [
      "{} <class 'dict'>\n",
      "{2} <class 'set'>\n"
     ]
    }
   ],
   "source": [
    "h={}\n",
    "m={2}\n",
    "print(h,type(h))\n",
    "print(m,type(m))"
   ]
  },
  {
   "cell_type": "code",
   "execution_count": 4,
   "id": "6558feef",
   "metadata": {},
   "outputs": [
    {
     "name": "stdout",
     "output_type": "stream",
     "text": [
      "['__and__', '__class__', '__contains__', '__delattr__', '__dir__', '__doc__', '__eq__', '__format__', '__ge__', '__getattribute__', '__gt__', '__hash__', '__iand__', '__init__', '__init_subclass__', '__ior__', '__isub__', '__iter__', '__ixor__', '__le__', '__len__', '__lt__', '__ne__', '__new__', '__or__', '__rand__', '__reduce__', '__reduce_ex__', '__repr__', '__ror__', '__rsub__', '__rxor__', '__setattr__', '__sizeof__', '__str__', '__sub__', '__subclasshook__', '__xor__', 'add', 'clear', 'copy', 'difference', 'difference_update', 'discard', 'intersection', 'intersection_update', 'isdisjoint', 'issubset', 'issuperset', 'pop', 'remove', 'symmetric_difference', 'symmetric_difference_update', 'union', 'update']\n"
     ]
    }
   ],
   "source": [
    "print(dir(set))"
   ]
  },
  {
   "cell_type": "code",
   "execution_count": 5,
   "id": "ac57ece7",
   "metadata": {},
   "outputs": [
    {
     "name": "stdout",
     "output_type": "stream",
     "text": [
      "{0, 'raju', 34, 12, 'latha', 'ajay', 23}\n"
     ]
    }
   ],
   "source": [
    "s1={23,12,34,\"ajay\",0,\"latha\"}\n",
    "s1.add(\"raju\")\n",
    "print(s1)"
   ]
  },
  {
   "cell_type": "code",
   "execution_count": 6,
   "id": "d21ed95d",
   "metadata": {},
   "outputs": [
    {
     "name": "stdout",
     "output_type": "stream",
     "text": [
      "{0, 'raju', 34, 12, 'latha', 'ajay', 23}\n",
      "{'raju', 34, 12, 'latha', 'ajay', 23}\n"
     ]
    }
   ],
   "source": [
    "print(s1)\n",
    "s1.pop()\n",
    "print(s1)"
   ]
  },
  {
   "cell_type": "code",
   "execution_count": 7,
   "id": "777ea7a6",
   "metadata": {},
   "outputs": [
    {
     "name": "stdout",
     "output_type": "stream",
     "text": [
      "{'raju', 34, 12, 'latha', 'ajay', 23}\n",
      "{'raju', 34, 12, 'latha', 23}\n"
     ]
    }
   ],
   "source": [
    "print(s1)\n",
    "s1.remove(\"ajay\")\n",
    "print(s1)"
   ]
  },
  {
   "cell_type": "code",
   "execution_count": 8,
   "id": "93c9f1cf",
   "metadata": {},
   "outputs": [
    {
     "name": "stdout",
     "output_type": "stream",
     "text": [
      "{34, 67, 12, 89, 90}\n",
      "{34, 67, 12, 45, 91}\n",
      "{34, 67, 12, 45, 89, 90, 91}\n",
      "{34, 67, 12, 89, 90}\n",
      "{34, 67, 12, 45, 91}\n"
     ]
    }
   ],
   "source": [
    "s2={12,34,67,89,90}\n",
    "s3={12,34,45,67,91}\n",
    "print(s2)\n",
    "print(s3)\n",
    "print(s2.union(s3))\n",
    "print(s2)\n",
    "print(s3)"
   ]
  },
  {
   "cell_type": "code",
   "execution_count": 9,
   "id": "2effc0e2",
   "metadata": {},
   "outputs": [
    {
     "name": "stdout",
     "output_type": "stream",
     "text": [
      "{34, 67, 12, 89, 90}\n",
      "{34, 67, 12, 45, 91}\n",
      "{34, 67, 12}\n",
      "{34, 67, 12, 89, 90}\n",
      "{34, 67, 12, 45, 91}\n"
     ]
    }
   ],
   "source": [
    "print(s2)\n",
    "print(s3)\n",
    "print(s2.intersection(s3))\n",
    "print(s2)\n",
    "print(s3)"
   ]
  },
  {
   "cell_type": "code",
   "execution_count": null,
   "id": "709c6fbd",
   "metadata": {},
   "outputs": [],
   "source": []
  }
 ],
 "metadata": {
  "kernelspec": {
   "display_name": "Python 3",
   "language": "python",
   "name": "python3"
  },
  "language_info": {
   "codemirror_mode": {
    "name": "ipython",
    "version": 3
   },
   "file_extension": ".py",
   "mimetype": "text/x-python",
   "name": "python",
   "nbconvert_exporter": "python",
   "pygments_lexer": "ipython3",
   "version": "3.7.0"
  }
 },
 "nbformat": 4,
 "nbformat_minor": 5
}
