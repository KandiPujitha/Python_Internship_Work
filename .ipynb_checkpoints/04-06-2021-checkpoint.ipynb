{
 "cells": [
  {
   "cell_type": "markdown",
   "id": "7aaac200",
   "metadata": {},
   "source": [
    "# Functions:\n",
    "    - to perform a specfic task\n",
    "    - reuseability of code\n",
    "    - memory saving\n",
    "    - number of lines can be decreased\n",
    "    - predefined functions , User defined functions"
   ]
  },
  {
   "cell_type": "markdown",
   "id": "a10bf6fc",
   "metadata": {},
   "source": [
    "## Predefined functions\n",
    "    - alresdy work has been allocates for it\n",
    "    - print(),range(),int9),str(),max()"
   ]
  },
  {
   "cell_type": "markdown",
   "id": "48d5fd87",
   "metadata": {},
   "source": [
    "## User defined functions:\n",
    "    - we need to acllote work for a fuction\n",
    "    - syntax:\n",
    "    -      def function_name(arguments):\n",
    "               //stmnts\n",
    "               return  return_values"
   ]
  },
  {
   "cell_type": "markdown",
   "id": "6eb77e14",
   "metadata": {},
   "source": [
    "## Types of functions:\n",
    "    - with return type and with arguments\n",
    "    - with return type and without arguments\n",
    "    - without return values and with arguments\n",
    "    - without return type and without arguments\n"
   ]
  },
  {
   "cell_type": "code",
   "execution_count": 3,
   "id": "d9dbea1f",
   "metadata": {},
   "outputs": [
    {
     "name": "stdout",
     "output_type": "stream",
     "text": [
      "15\n",
      "1 2 3 4 5 6 7 8 9 10 11 12 13 14 15 "
     ]
    }
   ],
   "source": [
    "# with return type and with arguments\n",
    "# reading -Main\n",
    "# printing -main \n",
    "# logic - function\n",
    "def printnumbers(k):\n",
    "    j=[]\n",
    "    for b in range(1,k+1):\n",
    "        j.append(b)\n",
    "    return j\n",
    "\n",
    "n=int(input())\n",
    "for z in range(1,len(printnumbers(n))+1):\n",
    "    print(z,end=\" \")\n",
    "\n"
   ]
  },
  {
   "cell_type": "code",
   "execution_count": 5,
   "id": "8f14eebe",
   "metadata": {},
   "outputs": [
    {
     "name": "stdout",
     "output_type": "stream",
     "text": [
      "50\n",
      "2 4 6 8 10 12 14 16 18 20 22 24 26 28 30 32 34 36 38 40 42 44 46 48 50 "
     ]
    }
   ],
   "source": [
    "# with return type and without arguments\n",
    "# reading -function\n",
    "# printing -main \n",
    "# logic - function\n",
    "\n",
    "def evennumbers():\n",
    "    k=int(input())\n",
    "    c=[]  #list format\n",
    "    for b in range(1,k+1):\n",
    "        if b%2==0:\n",
    "            c.append(b)\n",
    "    return c\n",
    "for z in evennumbers():\n",
    "    print(z,end=\" \")\n"
   ]
  },
  {
   "cell_type": "code",
   "execution_count": 7,
   "id": "f62b52a4",
   "metadata": {},
   "outputs": [
    {
     "name": "stdout",
     "output_type": "stream",
     "text": [
      "30\n",
      "1 3 5 7 9 11 13 15 17 19 21 23 25 27 29 "
     ]
    }
   ],
   "source": [
    "# without return type and with arguments\n",
    "# reading -Main\n",
    "# printing -function \n",
    "# logic - function\n",
    "\n",
    "def oddnumbers(m):\n",
    "    for i in range(1,m+1):\n",
    "        if i%2!=0:\n",
    "            print(i,end=\" \")\n",
    "    return\n",
    "b=int(input())\n",
    "oddnumbers(b)"
   ]
  },
  {
   "cell_type": "code",
   "execution_count": 11,
   "id": "5cd37ff0",
   "metadata": {},
   "outputs": [
    {
     "name": "stdout",
     "output_type": "stream",
     "text": [
      "20\n",
      "100\n",
      "15\n",
      "20 35 50 65 80 95 "
     ]
    }
   ],
   "source": [
    "# without return type and without arguments\n",
    "# reading -function\n",
    "# printing -function\n",
    "# logic - function\n",
    "\n",
    "def skippingvalues():\n",
    "    n=int(input())\n",
    "    m=int(input())\n",
    "    s=int(input())\n",
    "    for j in range(n,m,s):\n",
    "        print(j,end=\" \")\n",
    "    return\n",
    "skippingvalues()     #difference is 15"
   ]
  },
  {
   "cell_type": "markdown",
   "id": "e5b37ea1",
   "metadata": {},
   "source": [
    "# Task\n",
    "```\n",
    "Input: 123456789\n",
    "output:\n",
    "    given number is:1233457\n",
    "    even numbers are:  2  4 \n",
    "    odd numbers are: 3 3 5 7  1  \n",
    "    left half of even numbers are: 2,4\n",
    "    right half of even numbers are :4 6 8\n",
    "    left half of even numbers sum is:\n",
    "    right half of even numbres is:\n",
    "```    \n",
    "        "
   ]
  },
  {
   "cell_type": "markdown",
   "id": "0c7911bc",
   "metadata": {},
   "source": [
    "## Arguments Types:\n",
    "    - requried arguments or positional arguments\n",
    "    - default argument\n",
    "    - keyword argument\n",
    "    - variable length arguments"
   ]
  },
  {
   "cell_type": "code",
   "execution_count": 13,
   "id": "86c459c6",
   "metadata": {},
   "outputs": [
    {
     "name": "stdout",
     "output_type": "stream",
     "text": [
      "Enter a name: rani\n",
      "enter an age: 12\n",
      "Your Name is: 12\n",
      "Your age is: rani\n"
     ]
    }
   ],
   "source": [
    "# requried arguments\n",
    "\n",
    "def student(a,n):\n",
    "    print(\"Your Name is: {}\\nYour age is: {}\".format(age,name))\n",
    "    return\n",
    "name=input(\"Enter a name: \")\n",
    "age=int(input(\"enter an age: \"))\n",
    "student(name,age)"
   ]
  },
  {
   "cell_type": "code",
   "execution_count": null,
   "id": "bd39b4c6",
   "metadata": {},
   "outputs": [],
   "source": []
  }
 ],
 "metadata": {
  "kernelspec": {
   "display_name": "Python 3",
   "language": "python",
   "name": "python3"
  },
  "language_info": {
   "codemirror_mode": {
    "name": "ipython",
    "version": 3
   },
   "file_extension": ".py",
   "mimetype": "text/x-python",
   "name": "python",
   "nbconvert_exporter": "python",
   "pygments_lexer": "ipython3",
   "version": "3.7.0"
  }
 },
 "nbformat": 4,
 "nbformat_minor": 5
}
