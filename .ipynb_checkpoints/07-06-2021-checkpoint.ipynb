{
 "cells": [
  {
   "cell_type": "markdown",
   "id": "ad6d9654",
   "metadata": {},
   "source": [
    "# Packages and Modules"
   ]
  },
  {
   "cell_type": "markdown",
   "id": "9be065a2",
   "metadata": {},
   "source": [
    "## Package:\n",
    "    - folder - No of files or number of folder\n",
    "    - package => folder\n",
    "              => number of folders or files\n",
    "              => collection of modules\n",
    "    - Module => files[.py file]\n",
    "             => collection of class,methods,functions,variables"
   ]
  },
  {
   "cell_type": "markdown",
   "id": "f67ba27f",
   "metadata": {},
   "source": [
    "```\n",
    "Example:\n",
    "    college => package\n",
    "        cse  => sub packages\n",
    "              -> first.py => modules\n",
    "              -> second.py \n",
    "        ece\n",
    "        eee\n",
    "        mech\n",
    "```        "
   ]
  },
  {
   "cell_type": "code",
   "execution_count": 1,
   "id": "ab35c806",
   "metadata": {},
   "outputs": [],
   "source": [
    "import math\n"
   ]
  },
  {
   "cell_type": "code",
   "execution_count": null,
   "id": "34d5bb20",
   "metadata": {},
   "outputs": [],
   "source": []
  },
  {
   "cell_type": "code",
   "execution_count": 2,
   "id": "0403de36",
   "metadata": {},
   "outputs": [
    {
     "name": "stdout",
     "output_type": "stream",
     "text": [
      "['__doc__', '__loader__', '__name__', '__package__', '__spec__', 'acos', 'acosh', 'asin', 'asinh', 'atan', 'atan2', 'atanh', 'ceil', 'copysign', 'cos', 'cosh', 'degrees', 'e', 'erf', 'erfc', 'exp', 'expm1', 'fabs', 'factorial', 'floor', 'fmod', 'frexp', 'fsum', 'gamma', 'gcd', 'hypot', 'inf', 'isclose', 'isfinite', 'isinf', 'isnan', 'ldexp', 'lgamma', 'log', 'log10', 'log1p', 'log2', 'modf', 'nan', 'pi', 'pow', 'radians', 'remainder', 'sin', 'sinh', 'sqrt', 'tan', 'tanh', 'tau', 'trunc']\n"
     ]
    }
   ],
   "source": [
    "print(dir(math))"
   ]
  },
  {
   "cell_type": "code",
   "execution_count": 3,
   "id": "bdf0f151",
   "metadata": {},
   "outputs": [
    {
     "name": "stdout",
     "output_type": "stream",
     "text": [
      "30414093201713378043612608166064768844377641568960512000000000000\n"
     ]
    }
   ],
   "source": [
    "print(math.factorial(50))"
   ]
  },
  {
   "cell_type": "code",
   "execution_count": 4,
   "id": "0dd55379",
   "metadata": {},
   "outputs": [],
   "source": [
    "import sample"
   ]
  },
  {
   "cell_type": "code",
   "execution_count": 5,
   "id": "ddb2f5ae",
   "metadata": {
    "scrolled": true
   },
   "outputs": [
    {
     "name": "stdout",
     "output_type": "stream",
     "text": [
      "['__builtins__', '__cached__', '__doc__', '__file__', '__loader__', '__name__', '__package__', '__spec__', 'a']\n"
     ]
    }
   ],
   "source": [
    "print(dir(sample))"
   ]
  },
  {
   "cell_type": "code",
   "execution_count": 6,
   "id": "43a86fb3",
   "metadata": {},
   "outputs": [
    {
     "name": "stdout",
     "output_type": "stream",
     "text": [
      "50\n"
     ]
    }
   ],
   "source": [
    "print(sample.a)"
   ]
  },
  {
   "cell_type": "code",
   "execution_count": 7,
   "id": "11596a79",
   "metadata": {},
   "outputs": [],
   "source": [
    "from APSSDC import demo"
   ]
  },
  {
   "cell_type": "code",
   "execution_count": 8,
   "id": "cf1391d1",
   "metadata": {},
   "outputs": [
    {
     "name": "stdout",
     "output_type": "stream",
     "text": [
      "['__builtins__', '__cached__', '__doc__', '__file__', '__loader__', '__name__', '__package__', '__spec__', 'b']\n"
     ]
    }
   ],
   "source": [
    "print(dir(demo))"
   ]
  },
  {
   "cell_type": "code",
   "execution_count": 9,
   "id": "17a6b067",
   "metadata": {},
   "outputs": [
    {
     "name": "stdout",
     "output_type": "stream",
     "text": [
      "23\n"
     ]
    }
   ],
   "source": [
    "print(demo.b)"
   ]
  },
  {
   "cell_type": "code",
   "execution_count": 10,
   "id": "67fd5bc0",
   "metadata": {},
   "outputs": [],
   "source": [
    "from APSSDC import *"
   ]
  },
  {
   "cell_type": "code",
   "execution_count": 1,
   "id": "2805dc48",
   "metadata": {},
   "outputs": [
    {
     "ename": "NameError",
     "evalue": "name 'demo' is not defined",
     "output_type": "error",
     "traceback": [
      "\u001b[1;31m---------------------------------------------------------------------------\u001b[0m",
      "\u001b[1;31mNameError\u001b[0m                                 Traceback (most recent call last)",
      "\u001b[1;32m<ipython-input-1-96266d07f2ab>\u001b[0m in \u001b[0;36m<module>\u001b[1;34m\u001b[0m\n\u001b[1;32m----> 1\u001b[1;33m \u001b[0mprint\u001b[0m\u001b[1;33m(\u001b[0m\u001b[0mdemo\u001b[0m\u001b[1;33m.\u001b[0m\u001b[0mb\u001b[0m\u001b[1;33m,\u001b[0m\u001b[0mprasad\u001b[0m\u001b[1;33m.\u001b[0m\u001b[0mname\u001b[0m\u001b[1;33m)\u001b[0m\u001b[1;33m\u001b[0m\u001b[0m\n\u001b[0m",
      "\u001b[1;31mNameError\u001b[0m: name 'demo' is not defined"
     ]
    }
   ],
   "source": [
    "print(demo.b,prasad.name)"
   ]
  },
  {
   "cell_type": "code",
   "execution_count": 2,
   "id": "82e53671",
   "metadata": {},
   "outputs": [],
   "source": [
    "from APSSDC import demo,prasad"
   ]
  },
  {
   "cell_type": "code",
   "execution_count": 5,
   "id": "61e82b61",
   "metadata": {},
   "outputs": [
    {
     "ename": "AttributeError",
     "evalue": "module 'APSSDC.prasad' has no attribute 'name'",
     "output_type": "error",
     "traceback": [
      "\u001b[1;31m---------------------------------------------------------------------------\u001b[0m",
      "\u001b[1;31mAttributeError\u001b[0m                            Traceback (most recent call last)",
      "\u001b[1;32m<ipython-input-5-96266d07f2ab>\u001b[0m in \u001b[0;36m<module>\u001b[1;34m\u001b[0m\n\u001b[1;32m----> 1\u001b[1;33m \u001b[0mprint\u001b[0m\u001b[1;33m(\u001b[0m\u001b[0mdemo\u001b[0m\u001b[1;33m.\u001b[0m\u001b[0mb\u001b[0m\u001b[1;33m,\u001b[0m\u001b[0mprasad\u001b[0m\u001b[1;33m.\u001b[0m\u001b[0mname\u001b[0m\u001b[1;33m)\u001b[0m\u001b[1;33m\u001b[0m\u001b[0m\n\u001b[0m",
      "\u001b[1;31mAttributeError\u001b[0m: module 'APSSDC.prasad' has no attribute 'name'"
     ]
    }
   ],
   "source": [
    "print(demo.b,prasad.name)"
   ]
  },
  {
   "cell_type": "code",
   "execution_count": 1,
   "id": "c4b01d59",
   "metadata": {},
   "outputs": [],
   "source": [
    "from APSSDC.CSE import first as c\n",
    "from APSSDC.ECE import first as e"
   ]
  },
  {
   "cell_type": "code",
   "execution_count": 2,
   "id": "8fc35c45",
   "metadata": {},
   "outputs": [
    {
     "name": "stdout",
     "output_type": "stream",
     "text": [
      "['__builtins__', '__cached__', '__doc__', '__file__', '__loader__', '__name__', '__package__', '__spec__', 'q']\n"
     ]
    }
   ],
   "source": [
    "print(dir(c))"
   ]
  },
  {
   "cell_type": "code",
   "execution_count": 3,
   "id": "d41a5d32",
   "metadata": {},
   "outputs": [
    {
     "name": "stdout",
     "output_type": "stream",
     "text": [
      "['__builtins__', '__cached__', '__doc__', '__file__', '__loader__', '__name__', '__package__', '__spec__', 'm']\n"
     ]
    }
   ],
   "source": [
    "print(dir(e))"
   ]
  },
  {
   "cell_type": "code",
   "execution_count": null,
   "id": "b6baee96",
   "metadata": {},
   "outputs": [],
   "source": [
    "create a folder\n",
    "keep name as calsi\n",
    "            add\n",
    "            sub\n",
    "            mul\n",
    "            div\n",
    "            12 3\n",
    "            d.add(12,3)=> given numbers are 12 and 3 and its addition is: 15\n",
    "                "
   ]
  },
  {
   "cell_type": "code",
   "execution_count": null,
   "id": "f112755b",
   "metadata": {},
   "outputs": [],
   "source": [
    "from ...import...\n",
    "n=int(input())\n",
    "m=int(input())\n",
    "print(... add(n,m))"
   ]
  },
  {
   "cell_type": "code",
   "execution_count": 1,
   "id": "600de538",
   "metadata": {},
   "outputs": [
    {
     "name": "stdout",
     "output_type": "stream",
     "text": [
      "10\n",
      "Even numbers in a range is: [0, 2, 4, 6, 8, 10]\n"
     ]
    }
   ],
   "source": [
    "from APSSDC.demo1 import main\n",
    "y=int(input())\n",
    "print(\"Even numbers in a range is: {}\".format(main.even(y)))\n"
   ]
  },
  {
   "cell_type": "code",
   "execution_count": null,
   "id": "9160b643",
   "metadata": {},
   "outputs": [],
   "source": []
  }
 ],
 "metadata": {
  "kernelspec": {
   "display_name": "Python 3",
   "language": "python",
   "name": "python3"
  },
  "language_info": {
   "codemirror_mode": {
    "name": "ipython",
    "version": 3
   },
   "file_extension": ".py",
   "mimetype": "text/x-python",
   "name": "python",
   "nbconvert_exporter": "python",
   "pygments_lexer": "ipython3",
   "version": "3.7.0"
  }
 },
 "nbformat": 4,
 "nbformat_minor": 5
}
