{
 "cells": [
  {
   "cell_type": "markdown",
   "id": "8985ee6f",
   "metadata": {},
   "source": [
    "## OOPS\n",
    "    - class\n",
    "    - method\n",
    "    - objects\n",
    "    - constructors\n",
    "    - packages and modules by using class\n",
    "    - inheritance"
   ]
  },
  {
   "cell_type": "markdown",
   "id": "b5defa57",
   "metadata": {},
   "source": [
    "## class\n",
    "    - class is a collection of variables and methods.\n",
    "### rules to define class\n",
    "    - should not start with number\n",
    "    - not to use keywords\n",
    "    -initalise with uppercase letter of class nmae"
   ]
  },
  {
   "cell_type": "code",
   "execution_count": 2,
   "id": "a1bf579a",
   "metadata": {},
   "outputs": [],
   "source": [
    "class Hi:\n",
    "    name,rollnumber=\"APSSDC\",508\n",
    "    def msg():\n",
    "        print(\"Hi all,i am from msg()\")"
   ]
  },
  {
   "cell_type": "code",
   "execution_count": 3,
   "id": "62ca7195",
   "metadata": {},
   "outputs": [
    {
     "data": {
      "text/plain": [
       "'APSSDC'"
      ]
     },
     "execution_count": 3,
     "metadata": {},
     "output_type": "execute_result"
    }
   ],
   "source": [
    "Hi.name"
   ]
  },
  {
   "cell_type": "code",
   "execution_count": 4,
   "id": "5d15dfbf",
   "metadata": {},
   "outputs": [
    {
     "data": {
      "text/plain": [
       "508"
      ]
     },
     "execution_count": 4,
     "metadata": {},
     "output_type": "execute_result"
    }
   ],
   "source": [
    "Hi.rollnumber"
   ]
  },
  {
   "cell_type": "code",
   "execution_count": 5,
   "id": "654783ff",
   "metadata": {},
   "outputs": [
    {
     "name": "stdout",
     "output_type": "stream",
     "text": [
      "Hi all,i am from msg()\n"
     ]
    }
   ],
   "source": [
    "Hi.msg()"
   ]
  },
  {
   "cell_type": "code",
   "execution_count": 6,
   "id": "ce5e82cb",
   "metadata": {},
   "outputs": [],
   "source": [
    "obj=Hi\n"
   ]
  },
  {
   "cell_type": "code",
   "execution_count": 7,
   "id": "fc98c032",
   "metadata": {},
   "outputs": [
    {
     "data": {
      "text/plain": [
       "'APSSDC'"
      ]
     },
     "execution_count": 7,
     "metadata": {},
     "output_type": "execute_result"
    }
   ],
   "source": [
    "obj.name"
   ]
  },
  {
   "cell_type": "code",
   "execution_count": 8,
   "id": "8c5bbd32",
   "metadata": {},
   "outputs": [
    {
     "name": "stdout",
     "output_type": "stream",
     "text": [
      "Hi all,i am from msg()\n"
     ]
    }
   ],
   "source": [
    "obj.msg()"
   ]
  },
  {
   "cell_type": "code",
   "execution_count": 7,
   "id": "59626537",
   "metadata": {},
   "outputs": [],
   "source": [
    "class Calsi:\n",
    "    def add(n1,n2):\n",
    "        return n1+n2\n",
    "    def sub(n1,n2):\n",
    "        return n1-n2\n",
    "    def mul(val1,val2):\n",
    "        return val1*val2\n",
    "    def div(val1,val2):\n",
    "        return val1/val2\n",
    "    def fdiv(val1,val2):\n",
    "        return val1//val2\n",
    "    def exp(val1,val2):\n",
    "        return(val1**val2)"
   ]
  },
  {
   "cell_type": "code",
   "execution_count": 9,
   "id": "82b1f744",
   "metadata": {},
   "outputs": [],
   "source": [
    "cal = Calsi"
   ]
  },
  {
   "cell_type": "code",
   "execution_count": 4,
   "id": "ec72d231",
   "metadata": {},
   "outputs": [
    {
     "data": {
      "text/plain": [
       "35"
      ]
     },
     "execution_count": 4,
     "metadata": {},
     "output_type": "execute_result"
    }
   ],
   "source": [
    "cal.add(22,13)"
   ]
  },
  {
   "cell_type": "markdown",
   "id": "dae6d8b5",
   "metadata": {},
   "source": [
    "cal.sub(12,34)"
   ]
  },
  {
   "cell_type": "code",
   "execution_count": 10,
   "id": "48ee9328",
   "metadata": {},
   "outputs": [
    {
     "data": {
      "text/plain": [
       "4"
      ]
     },
     "execution_count": 10,
     "metadata": {},
     "output_type": "execute_result"
    }
   ],
   "source": [
    "cal.exp(2,2)"
   ]
  },
  {
   "cell_type": "code",
   "execution_count": 11,
   "id": "e19f3c4d",
   "metadata": {},
   "outputs": [],
   "source": [
    "cal1=Calsi()"
   ]
  },
  {
   "cell_type": "code",
   "execution_count": 12,
   "id": "d455a220",
   "metadata": {},
   "outputs": [
    {
     "ename": "TypeError",
     "evalue": "add() takes 2 positional arguments but 3 were given",
     "output_type": "error",
     "traceback": [
      "\u001b[1;31m---------------------------------------------------------------------------\u001b[0m",
      "\u001b[1;31mTypeError\u001b[0m                                 Traceback (most recent call last)",
      "\u001b[1;32m<ipython-input-12-5d104146255e>\u001b[0m in \u001b[0;36m<module>\u001b[1;34m\u001b[0m\n\u001b[1;32m----> 1\u001b[1;33m \u001b[0mcal1\u001b[0m\u001b[1;33m.\u001b[0m\u001b[0madd\u001b[0m\u001b[1;33m(\u001b[0m\u001b[1;36m12\u001b[0m\u001b[1;33m,\u001b[0m\u001b[1;36m34\u001b[0m\u001b[1;33m)\u001b[0m\u001b[1;33m\u001b[0m\u001b[0m\n\u001b[0m",
      "\u001b[1;31mTypeError\u001b[0m: add() takes 2 positional arguments but 3 were given"
     ]
    }
   ],
   "source": [
    "cal1.add(12,34)"
   ]
  },
  {
   "cell_type": "markdown",
   "id": "9df4933c",
   "metadata": {},
   "source": [
    "### Constructor\n",
    "    - it is special method in python i.e,__init__()\n",
    "    - it will execute while creating object\n",
    "    - we have 2 differnt types constructors\n",
    "        - default\n",
    "        - parameterised"
   ]
  },
  {
   "cell_type": "code",
   "execution_count": 13,
   "id": "779c96cf",
   "metadata": {},
   "outputs": [],
   "source": [
    "class Hello:\n",
    "    def __init__(self):\n",
    "        print(\"Hi i am default constructor\")"
   ]
  },
  {
   "cell_type": "code",
   "execution_count": 14,
   "id": "e2597f28",
   "metadata": {},
   "outputs": [
    {
     "name": "stdout",
     "output_type": "stream",
     "text": [
      "Hi i am default constructor\n"
     ]
    }
   ],
   "source": [
    "obj=Hello()"
   ]
  },
  {
   "cell_type": "code",
   "execution_count": 26,
   "id": "878cd701",
   "metadata": {},
   "outputs": [],
   "source": [
    "class Hello1():\n",
    "    def __init__(files,val1,val2):\n",
    "        files.val1=val1\n",
    "        files.val2=val2\n",
    "    def show(files):\n",
    "        print(files.val1,files.val2,files.val3,files.val4)\n",
    "    def add(files):\n",
    "        return files.val1+files.val2\n",
    "    def profile(files,val3,val4):\n",
    "        files.val3=val3\n",
    "        files.val4=val4"
   ]
  },
  {
   "cell_type": "code",
   "execution_count": 27,
   "id": "afd3e061",
   "metadata": {},
   "outputs": [],
   "source": [
    "obj=Hello1(14,56)"
   ]
  },
  {
   "cell_type": "code",
   "execution_count": 24,
   "id": "60b6e10d",
   "metadata": {},
   "outputs": [
    {
     "name": "stdout",
     "output_type": "stream",
     "text": [
      "14 56\n"
     ]
    }
   ],
   "source": [
    "obj.show()"
   ]
  },
  {
   "cell_type": "code",
   "execution_count": 25,
   "id": "8571aa1a",
   "metadata": {},
   "outputs": [
    {
     "data": {
      "text/plain": [
       "70"
      ]
     },
     "execution_count": 25,
     "metadata": {},
     "output_type": "execute_result"
    }
   ],
   "source": [
    "obj.add()"
   ]
  },
  {
   "cell_type": "code",
   "execution_count": 28,
   "id": "e52cb91a",
   "metadata": {},
   "outputs": [],
   "source": [
    "obj.profile(67,89)"
   ]
  },
  {
   "cell_type": "code",
   "execution_count": 29,
   "id": "bbb21569",
   "metadata": {},
   "outputs": [
    {
     "name": "stdout",
     "output_type": "stream",
     "text": [
      "14 56 67 89\n"
     ]
    }
   ],
   "source": [
    "obj.show()"
   ]
  },
  {
   "cell_type": "code",
   "execution_count": 30,
   "id": "9cb6ba15",
   "metadata": {},
   "outputs": [],
   "source": [
    "from package import mylogics"
   ]
  },
  {
   "cell_type": "code",
   "execution_count": 31,
   "id": "9263ec4f",
   "metadata": {},
   "outputs": [
    {
     "data": {
      "text/plain": [
       "['Calsi',\n",
       " 'Mymath',\n",
       " '__builtins__',\n",
       " '__cached__',\n",
       " '__doc__',\n",
       " '__file__',\n",
       " '__loader__',\n",
       " '__name__',\n",
       " '__package__',\n",
       " '__spec__']"
      ]
     },
     "execution_count": 31,
     "metadata": {},
     "output_type": "execute_result"
    }
   ],
   "source": [
    "dir(mylogics)"
   ]
  },
  {
   "cell_type": "code",
   "execution_count": 32,
   "id": "847e64f3",
   "metadata": {},
   "outputs": [
    {
     "data": {
      "text/plain": [
       "True"
      ]
     },
     "execution_count": 32,
     "metadata": {},
     "output_type": "execute_result"
    }
   ],
   "source": [
    "mylogics.Mymath.isEven(22)"
   ]
  },
  {
   "cell_type": "code",
   "execution_count": 33,
   "id": "7c9e51de",
   "metadata": {},
   "outputs": [],
   "source": [
    "from package.mylogics import Mymath"
   ]
  },
  {
   "cell_type": "code",
   "execution_count": 34,
   "id": "fba39733",
   "metadata": {},
   "outputs": [],
   "source": [
    "obj=Mymath"
   ]
  },
  {
   "cell_type": "code",
   "execution_count": 35,
   "id": "52ebf7ec",
   "metadata": {},
   "outputs": [
    {
     "data": {
      "text/plain": [
       "True"
      ]
     },
     "execution_count": 35,
     "metadata": {},
     "output_type": "execute_result"
    }
   ],
   "source": [
    "obj.isPrime(23)"
   ]
  },
  {
   "cell_type": "markdown",
   "id": "4bb1c245",
   "metadata": {},
   "source": [
    "# Inheritance\n",
    "    - inheriting properties from parent to child\n",
    "    -acquring properties from one class to another class\n",
    "    - types of inhritance\n",
    "        - single\n",
    "        - multiple\n",
    "        - multilevel\n",
    "        - hierachal\n",
    "        - hybrid"
   ]
  },
  {
   "cell_type": "code",
   "execution_count": 36,
   "id": "e4246962",
   "metadata": {},
   "outputs": [],
   "source": [
    "class Parent:\n",
    "    name=\"parent\"\n",
    "    value=500\n",
    "    def display():\n",
    "        print(\"I am from parent class\")"
   ]
  },
  {
   "cell_type": "code",
   "execution_count": 37,
   "id": "ec1d45e9",
   "metadata": {},
   "outputs": [],
   "source": [
    "class Child(Parent):\n",
    "    cname=\"Child\"\n",
    "    age=23\n",
    "    def show():\n",
    "        print(\"I am from child class\")"
   ]
  },
  {
   "cell_type": "code",
   "execution_count": 38,
   "id": "441f20d1",
   "metadata": {},
   "outputs": [],
   "source": [
    "obj=Child"
   ]
  },
  {
   "cell_type": "code",
   "execution_count": 39,
   "id": "106c16e5",
   "metadata": {},
   "outputs": [
    {
     "data": {
      "text/plain": [
       "'parent'"
      ]
     },
     "execution_count": 39,
     "metadata": {},
     "output_type": "execute_result"
    }
   ],
   "source": [
    "obj.name"
   ]
  },
  {
   "cell_type": "code",
   "execution_count": 40,
   "id": "3100a322",
   "metadata": {},
   "outputs": [
    {
     "name": "stdout",
     "output_type": "stream",
     "text": [
      "I am from parent class\n"
     ]
    }
   ],
   "source": [
    "obj.display()"
   ]
  },
  {
   "cell_type": "code",
   "execution_count": 41,
   "id": "ea58cca2",
   "metadata": {},
   "outputs": [
    {
     "name": "stdout",
     "output_type": "stream",
     "text": [
      "I am from child class\n"
     ]
    }
   ],
   "source": [
    "obj.show()"
   ]
  },
  {
   "cell_type": "code",
   "execution_count": 42,
   "id": "d37c7cd9",
   "metadata": {},
   "outputs": [
    {
     "data": {
      "text/plain": [
       "'Child'"
      ]
     },
     "execution_count": 42,
     "metadata": {},
     "output_type": "execute_result"
    }
   ],
   "source": [
    "obj.cname"
   ]
  },
  {
   "cell_type": "code",
   "execution_count": null,
   "id": "1f72d7da",
   "metadata": {},
   "outputs": [],
   "source": []
  }
 ],
 "metadata": {
  "kernelspec": {
   "display_name": "Python 3",
   "language": "python",
   "name": "python3"
  },
  "language_info": {
   "codemirror_mode": {
    "name": "ipython",
    "version": 3
   },
   "file_extension": ".py",
   "mimetype": "text/x-python",
   "name": "python",
   "nbconvert_exporter": "python",
   "pygments_lexer": "ipython3",
   "version": "3.7.0"
  }
 },
 "nbformat": 4,
 "nbformat_minor": 5
}
