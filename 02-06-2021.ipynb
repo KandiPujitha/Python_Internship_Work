{
 "cells": [
  {
   "cell_type": "markdown",
   "id": "97aa4275",
   "metadata": {},
   "source": [
    "# Strings:\n",
    "    - It can be represented within a \"or\" and we can represent other data types enclosed with ' or\"\n",
    "    - It can be typecasted as str()\n",
    "    - It has index and slicing can be done\n",
    "    - It can be changes the character but it doesnot effect to original string"
   ]
  },
  {
   "cell_type": "code",
   "execution_count": 2,
   "id": "24b377b1",
   "metadata": {},
   "outputs": [
    {
     "name": "stdout",
     "output_type": "stream",
     "text": [
      "APSSDC Internship\n"
     ]
    }
   ],
   "source": [
    "#range(a)\n",
    "#range(a,b)\n",
    "#range(a,b,c)\n",
    "#inclusive range -> exact index\n",
    "#exclusive range -> given index range\n",
    "n=\"APSSDC Internship\"\n",
    "print(n)\n"
   ]
  },
  {
   "cell_type": "code",
   "execution_count": 16,
   "id": "f2167d44",
   "metadata": {},
   "outputs": [
    {
     "name": "stdout",
     "output_type": "stream",
     "text": [
      "APSSDC Internship\n",
      "C\n",
      "h\n",
      "APSSDC Internship\n",
      "SDC Internship\n",
      "APSSDC Int\n",
      "C Inter\n",
      "er\n",
      "\n",
      "e\n",
      "erns\n"
     ]
    }
   ],
   "source": [
    "print(n)\n",
    "print(n[5])\n",
    "print(n[-3])\n",
    "print(n[:])\n",
    "print(n[3:])\n",
    "print(n[:10])\n",
    "print(n[5:12])\n",
    "print(n[10:-5])\n",
    "print(n[-2:3])\n",
    "print(n[-7:11])\n",
    "print(n[-7:-3])"
   ]
  },
  {
   "cell_type": "code",
   "execution_count": 33,
   "id": "be75a9a5",
   "metadata": {},
   "outputs": [
    {
     "name": "stdout",
     "output_type": "stream",
     "text": [
      "APSSDC Internship\n",
      "APSSDC Internship\n",
      "ASD nenhp\n",
      "phnen DSA\n",
      "Cnrh\n",
      "CS\n",
      "eIDP\n",
      " Int\n",
      "rns\n",
      "Inter\n",
      "DC Interns\n",
      "Cn\n",
      "CIt\n"
     ]
    }
   ],
   "source": [
    "print(n)\n",
    "print(n[::])\n",
    "print(n[::2]) # skipping 2 characters\n",
    "print(n[::-2])# reverse a number in slicing\n",
    "print(n[5::3])\n",
    "print(n[5::-3])\n",
    "print(n[10::-3])\n",
    "print(n[6:10:])\n",
    "print(n[-6:14:])\n",
    "print(n[-10:-5:])\n",
    "print(n[4:-3:])\n",
    "print(n[5:10:3])\n",
    "print(n[5:-7:2])"
   ]
  },
  {
   "cell_type": "code",
   "execution_count": 23,
   "id": "3f3118ce",
   "metadata": {},
   "outputs": [
    {
     "name": "stdout",
     "output_type": "stream",
     "text": [
      "12344567898643 <class 'str'>\n",
      "34689876544321 <class 'int'>\n"
     ]
    }
   ],
   "source": [
    "m=str(12344567898643)\n",
    "print(m,type(m))\n",
    "k=int(m[::-1])\n",
    "print(k,type(k))"
   ]
  },
  {
   "cell_type": "code",
   "execution_count": 36,
   "id": "e66255e0",
   "metadata": {},
   "outputs": [
    {
     "name": "stdout",
     "output_type": "stream",
     "text": [
      "APSSDC Programs\n",
      "S SDC Progra m\n"
     ]
    }
   ],
   "source": [
    "n=input()\n",
    "print(n[3]+\" \"+n[3:-2]+\" \"+n[-2])"
   ]
  },
  {
   "cell_type": "code",
   "execution_count": 37,
   "id": "f8ec404e",
   "metadata": {},
   "outputs": [
    {
     "name": "stdout",
     "output_type": "stream",
     "text": [
      "ms\n"
     ]
    }
   ],
   "source": [
    "m=\"APSSDC Programs\"\n",
    "print(m[-2:])"
   ]
  },
  {
   "cell_type": "code",
   "execution_count": 38,
   "id": "e017da61",
   "metadata": {},
   "outputs": [
    {
     "name": "stdout",
     "output_type": "stream",
     "text": [
      "APSSDC Programs\n"
     ]
    }
   ],
   "source": [
    "print(n)"
   ]
  },
  {
   "cell_type": "code",
   "execution_count": 39,
   "id": "89c4ac06",
   "metadata": {},
   "outputs": [
    {
     "name": "stdout",
     "output_type": "stream",
     "text": [
      "['__add__', '__class__', '__contains__', '__delattr__', '__dir__', '__doc__', '__eq__', '__format__', '__ge__', '__getattribute__', '__getitem__', '__getnewargs__', '__gt__', '__hash__', '__init__', '__init_subclass__', '__iter__', '__le__', '__len__', '__lt__', '__mod__', '__mul__', '__ne__', '__new__', '__reduce__', '__reduce_ex__', '__repr__', '__rmod__', '__rmul__', '__setattr__', '__sizeof__', '__str__', '__subclasshook__', 'capitalize', 'casefold', 'center', 'count', 'encode', 'endswith', 'expandtabs', 'find', 'format', 'format_map', 'index', 'isalnum', 'isalpha', 'isascii', 'isdecimal', 'isdigit', 'isidentifier', 'islower', 'isnumeric', 'isprintable', 'isspace', 'istitle', 'isupper', 'join', 'ljust', 'lower', 'lstrip', 'maketrans', 'partition', 'replace', 'rfind', 'rindex', 'rjust', 'rpartition', 'rsplit', 'rstrip', 'split', 'splitlines', 'startswith', 'strip', 'swapcase', 'title', 'translate', 'upper', 'zfill']\n"
     ]
    }
   ],
   "source": [
    "print(dir(str))"
   ]
  },
  {
   "cell_type": "code",
   "execution_count": 45,
   "id": "51372478",
   "metadata": {},
   "outputs": [
    {
     "name": "stdout",
     "output_type": "stream",
     "text": [
      "Welcome to APSSDC Programs\n",
      "Welcome to apssdc programs\n",
      "welcome to apssdc programs\n",
      "Welcome To Apssdc Programs\n",
      "wELCOME TO apssdc pROGRAMS\n"
     ]
    }
   ],
   "source": [
    "b=\"Welcome to APSSDC Programs\"\n",
    "print(b)\n",
    "print(b.capitalize()) # keeping only first letter as capital\n",
    "print(b.casefold())\n",
    "print(b.title()) # in every word first character as capital\n",
    "print(b.swapcase())"
   ]
  },
  {
   "cell_type": "code",
   "execution_count": 47,
   "id": "7bf7fc6b",
   "metadata": {},
   "outputs": [
    {
     "name": "stdout",
     "output_type": "stream",
     "text": [
      "Welcome to APSSDC Programs\n",
      "WELCOME TO APSSDC PROGRAMS\n",
      "welcome to apssdc programs\n",
      "True\n",
      "True\n"
     ]
    }
   ],
   "source": [
    "print(b)\n",
    "print(b.upper())\n",
    "print(b.lower())\n",
    "print(b.startswith('W'))\n",
    "print(b.endswith('s'))"
   ]
  },
  {
   "cell_type": "code",
   "execution_count": 60,
   "id": "7b9b0563",
   "metadata": {},
   "outputs": [
    {
     "name": "stdout",
     "output_type": "stream",
     "text": [
      "Welcome to APSSDC Programs\n",
      "['Welcome', 'to', 'APSSDC', 'Programs']\n",
      "['Welc', 'me t', ' APSSDC Pr', 'grams']\n",
      "2\n",
      "1\n",
      "-1\n",
      "6\n",
      "8\n",
      "18\n"
     ]
    }
   ],
   "source": [
    "print(b)\n",
    "print(b.split())\n",
    "print(b.split('o'))\n",
    "print(b.count('e'))\n",
    "print(b.find('e'))\n",
    "print(b.find('i'))\n",
    "print(b.rfind('e'))\n",
    "print(b.index('t'))\n",
    "print(b.rindex('P'))\n",
    "#print(b.index('i')) -> it displays error\n"
   ]
  },
  {
   "cell_type": "code",
   "execution_count": 52,
   "id": "a17d9cc8",
   "metadata": {},
   "outputs": [
    {
     "name": "stdout",
     "output_type": "stream",
     "text": [
      "23 45 56 5 15 50\n",
      "['23 4', ' ', '6 ', ' 1', ' ', '0']\n"
     ]
    }
   ],
   "source": [
    "n=input().split('5')\n",
    "print(n)"
   ]
  },
  {
   "cell_type": "code",
   "execution_count": 63,
   "id": "931261ee",
   "metadata": {},
   "outputs": [
    {
     "name": "stdout",
     "output_type": "stream",
     "text": [
      "       Sample\n",
      "Ramu      \n",
      "Ramu\n",
      "Sample\n",
      "Sample\n",
      "Ramu\n"
     ]
    }
   ],
   "source": [
    "d=\"       Sample\"\n",
    "e=\"Ramu      \"\n",
    "print(d)\n",
    "print(e)\n",
    "print(e.strip())\n",
    "print(d.strip())\n",
    "print(d.lstrip())\n",
    "print(e.rstrip())"
   ]
  },
  {
   "cell_type": "code",
   "execution_count": 69,
   "id": "5a1c0f92",
   "metadata": {},
   "outputs": [
    {
     "name": "stdout",
     "output_type": "stream",
     "text": [
      "       Sample\n",
      "Ramu                                              \n",
      "                                                                Sample\n",
      "                                                            Ramu      \n",
      "0000000       Sample\n"
     ]
    }
   ],
   "source": [
    "print(d)\n",
    "print(e.ljust(50))\n",
    "print(d.rjust(70))\n",
    "print(e.rjust(70))\n",
    "print(d.zfill(20))"
   ]
  },
  {
   "cell_type": "code",
   "execution_count": 70,
   "id": "edb1cf36",
   "metadata": {},
   "outputs": [
    {
     "name": "stdout",
     "output_type": "stream",
     "text": [
      "APSSDC\n",
      "APSSDC\n",
      "apssdc\n"
     ]
    }
   ],
   "source": [
    "z=\"APSSDC\"\n",
    "p=z.lower()\n",
    "f=z.upper()\n",
    "print(z)\n",
    "print(f)\n",
    "print(p)"
   ]
  },
  {
   "cell_type": "code",
   "execution_count": 74,
   "id": "d6afeac9",
   "metadata": {},
   "outputs": [
    {
     "name": "stdout",
     "output_type": "stream",
     "text": [
      "       Sample\n",
      "       SamRle\n",
      "0000000       Sample\n",
      "mmmmmmm       Sample\n"
     ]
    }
   ],
   "source": [
    "print(d)\n",
    "print(d.replace('p','R'))\n",
    "g=d.zfill(20)\n",
    "print(g)\n",
    "print(g.replace('0','m'))"
   ]
  },
  {
   "cell_type": "code",
   "execution_count": 75,
   "id": "ea4322b2",
   "metadata": {},
   "outputs": [
    {
     "name": "stdout",
     "output_type": "stream",
     "text": [
      "R a m e s h\n",
      "Ramesh\n"
     ]
    }
   ],
   "source": [
    "k=\"Ramesh\"\n",
    "a=\" \".join(k)\n",
    "print(a)\n",
    "print(k)"
   ]
  },
  {
   "cell_type": "code",
   "execution_count": 77,
   "id": "6599fdcf",
   "metadata": {},
   "outputs": [
    {
     "name": "stdout",
     "output_type": "stream",
     "text": [
      "34-45-56\n",
      "['34', '45', '56']\n"
     ]
    }
   ],
   "source": [
    "t=[\"34\",\"45\",\"56\"]\n",
    "g=\"-\".join(t)\n",
    "print(g)\n",
    "print(t)"
   ]
  },
  {
   "cell_type": "code",
   "execution_count": 84,
   "id": "fd2c033f",
   "metadata": {},
   "outputs": [
    {
     "name": "stdout",
     "output_type": "stream",
     "text": [
      "19kq1a0508-pace\n",
      "10\n",
      "['19kq1a0508', 'pace']\n"
     ]
    }
   ],
   "source": [
    "n=input().split(\"-\")\n",
    "print(len(n[0]))\n",
    "print(n)\n",
    "\n"
   ]
  },
  {
   "cell_type": "code",
   "execution_count": 85,
   "id": "e5806329",
   "metadata": {},
   "outputs": [
    {
     "name": "stdout",
     "output_type": "stream",
     "text": [
      "1 4 2 3 d c f r # @ & ^ "
     ]
    }
   ],
   "source": [
    "k='1423dcfr#@&^'\n",
    "for i in k:\n",
    "    print(i,end=\" \")"
   ]
  },
  {
   "cell_type": "code",
   "execution_count": 86,
   "id": "95731b0c",
   "metadata": {},
   "outputs": [
    {
     "name": "stdout",
     "output_type": "stream",
     "text": [
      "False\n",
      "False\n"
     ]
    }
   ],
   "source": [
    "print(k.isalpha())\n",
    "print(k.isalnum())"
   ]
  },
  {
   "cell_type": "code",
   "execution_count": 1,
   "id": "5fc25016",
   "metadata": {},
   "outputs": [
    {
     "name": "stdout",
     "output_type": "stream",
     "text": [
      "True\n",
      "True\n",
      "False\n"
     ]
    }
   ],
   "source": [
    "u='1234asdf'\n",
    "i=\"asde\"\n",
    "print(u.isalnum())\n",
    "print(i.isalpha())\n",
    "print(u.isdecimal())"
   ]
  },
  {
   "cell_type": "code",
   "execution_count": 3,
   "id": "2a608996",
   "metadata": {},
   "outputs": [
    {
     "name": "stdout",
     "output_type": "stream",
     "text": [
      "123asdf@#$\n",
      "Given string is:  123asdf@#$\n",
      "Alphabets in  123asdf@#$ is:  a s d f\n",
      "Digits in  123asdf@#$ is:  1 2 3\n",
      "Special characters in 123asdf@#$ is:  @ # $\n"
     ]
    }
   ],
   "source": [
    "#Input: 145syfg&*$#\n",
    "    #output:\n",
    "        #given string is:145syfg&*$#\n",
    "        #alphabets in 145syfg&*$#: s y f g \n",
    "        #numbers in 145syfg&*$# is: 1 4 5\n",
    "        #special characters in 145syfg&*$# is: & * $ #\n",
    "x=input()\n",
    "print(\"Given string is: \",x)\n",
    "l1=[]\n",
    "l2=[]\n",
    "l3=[]\n",
    "for i in x:\n",
    "    if(i.isalpha()):\n",
    "        l1.append(i)\n",
    "    elif(i.isdigit()):\n",
    "        l2.append(i)\n",
    "    else:\n",
    "        l3.append(i)\n",
    "a=\" \".join(l1)\n",
    "b=\" \".join(l2)\n",
    "c=\" \".join(l3)\n",
    "print(\"Alphabets in \",x,\"is: \",a)\n",
    "print(\"Digits in \",x,\"is: \",b)\n",
    "print(\"Special characters in\",x,\"is: \",c)"
   ]
  },
  {
   "cell_type": "code",
   "execution_count": null,
   "id": "1629b3f5",
   "metadata": {},
   "outputs": [],
   "source": []
  }
 ],
 "metadata": {
  "kernelspec": {
   "display_name": "Python 3",
   "language": "python",
   "name": "python3"
  },
  "language_info": {
   "codemirror_mode": {
    "name": "ipython",
    "version": 3
   },
   "file_extension": ".py",
   "mimetype": "text/x-python",
   "name": "python",
   "nbconvert_exporter": "python",
   "pygments_lexer": "ipython3",
   "version": "3.7.0"
  }
 },
 "nbformat": 4,
 "nbformat_minor": 5
}
