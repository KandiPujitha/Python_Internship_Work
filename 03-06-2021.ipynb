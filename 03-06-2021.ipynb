{
 "cells": [
  {
   "cell_type": "markdown",
   "id": "f36b99ce",
   "metadata": {},
   "source": [
    "# Set:"
   ]
  },
  {
   "cell_type": "code",
   "execution_count": 1,
   "id": "185e29a9",
   "metadata": {},
   "outputs": [
    {
     "name": "stdout",
     "output_type": "stream",
     "text": [
      "{'raju', 67, 'a', 45, 23}\n"
     ]
    }
   ],
   "source": [
    "g={'a',23,45,67,\"raju\"}\n",
    "print(g)   # unorder format follows by set. no particular order"
   ]
  },
  {
   "cell_type": "code",
   "execution_count": 2,
   "id": "89e221cc",
   "metadata": {},
   "outputs": [
    {
     "data": {
      "text/plain": [
       "{23, 45, 67, 'a', 'raju'}"
      ]
     },
     "execution_count": 2,
     "metadata": {},
     "output_type": "execute_result"
    }
   ],
   "source": [
    "g"
   ]
  },
  {
   "cell_type": "code",
   "execution_count": 3,
   "id": "150f3e36",
   "metadata": {},
   "outputs": [
    {
     "name": "stdout",
     "output_type": "stream",
     "text": [
      "{} <class 'dict'>\n",
      "{2} <class 'set'>\n"
     ]
    }
   ],
   "source": [
    "h={}\n",
    "m={2}\n",
    "print(h,type(h))\n",
    "print(m,type(m))"
   ]
  },
  {
   "cell_type": "code",
   "execution_count": 4,
   "id": "69b3b1cf",
   "metadata": {},
   "outputs": [
    {
     "name": "stdout",
     "output_type": "stream",
     "text": [
      "['__and__', '__class__', '__contains__', '__delattr__', '__dir__', '__doc__', '__eq__', '__format__', '__ge__', '__getattribute__', '__gt__', '__hash__', '__iand__', '__init__', '__init_subclass__', '__ior__', '__isub__', '__iter__', '__ixor__', '__le__', '__len__', '__lt__', '__ne__', '__new__', '__or__', '__rand__', '__reduce__', '__reduce_ex__', '__repr__', '__ror__', '__rsub__', '__rxor__', '__setattr__', '__sizeof__', '__str__', '__sub__', '__subclasshook__', '__xor__', 'add', 'clear', 'copy', 'difference', 'difference_update', 'discard', 'intersection', 'intersection_update', 'isdisjoint', 'issubset', 'issuperset', 'pop', 'remove', 'symmetric_difference', 'symmetric_difference_update', 'union', 'update']\n"
     ]
    }
   ],
   "source": [
    "print(dir(set))"
   ]
  },
  {
   "cell_type": "code",
   "execution_count": 5,
   "id": "6d30f47f",
   "metadata": {},
   "outputs": [
    {
     "name": "stdout",
     "output_type": "stream",
     "text": [
      "{0, 'raju', 34, 12, 'latha', 'ajay', 23}\n"
     ]
    }
   ],
   "source": [
    "s1={23,12,34,\"ajay\",0,\"latha\"}\n",
    "s1.add(\"raju\")\n",
    "print(s1)"
   ]
  },
  {
   "cell_type": "code",
   "execution_count": 6,
   "id": "4f352442",
   "metadata": {},
   "outputs": [
    {
     "name": "stdout",
     "output_type": "stream",
     "text": [
      "{0, 'raju', 34, 12, 'latha', 'ajay', 23}\n",
      "{'raju', 34, 12, 'latha', 'ajay', 23}\n"
     ]
    }
   ],
   "source": [
    "print(s1)\n",
    "s1.pop()\n",
    "print(s1)"
   ]
  },
  {
   "cell_type": "code",
   "execution_count": 7,
   "id": "788aca1c",
   "metadata": {},
   "outputs": [
    {
     "name": "stdout",
     "output_type": "stream",
     "text": [
      "{'raju', 34, 12, 'latha', 'ajay', 23}\n",
      "{'raju', 34, 12, 'latha', 23}\n"
     ]
    }
   ],
   "source": [
    "print(s1)\n",
    "s1.remove(\"ajay\")\n",
    "print(s1)"
   ]
  },
  {
   "cell_type": "code",
   "execution_count": 8,
   "id": "239636c3",
   "metadata": {},
   "outputs": [
    {
     "name": "stdout",
     "output_type": "stream",
     "text": [
      "{34, 67, 12, 89, 90}\n",
      "{34, 67, 12, 45, 91}\n",
      "{34, 67, 12, 45, 89, 90, 91}\n",
      "{34, 67, 12, 89, 90}\n",
      "{34, 67, 12, 45, 91}\n"
     ]
    }
   ],
   "source": [
    "s2={12,34,67,89,90}\n",
    "s3={12,34,45,67,91}\n",
    "print(s2)\n",
    "print(s3)\n",
    "print(s2.union(s3))\n",
    "print(s2)\n",
    "print(s3)"
   ]
  },
  {
   "cell_type": "code",
   "execution_count": 9,
   "id": "04449c2e",
   "metadata": {},
   "outputs": [
    {
     "name": "stdout",
     "output_type": "stream",
     "text": [
      "{34, 67, 12, 89, 90}\n",
      "{34, 67, 12, 45, 91}\n",
      "{34, 67, 12}\n",
      "{34, 67, 12, 89, 90}\n",
      "{34, 67, 12, 45, 91}\n"
     ]
    }
   ],
   "source": [
    "print(s2)\n",
    "print(s3)\n",
    "print(s2.intersection(s3))\n",
    "print(s2)\n",
    "print(s3)"
   ]
  },
  {
   "cell_type": "markdown",
   "id": "714f6d9f",
   "metadata": {},
   "source": [
    "# Dictionary:"
   ]
  },
  {
   "cell_type": "code",
   "execution_count": 10,
   "id": "6b364431",
   "metadata": {},
   "outputs": [
    {
     "name": "stdout",
     "output_type": "stream",
     "text": [
      "{'name': ('ramu', 'sai', 'teja'), 'age': [12, 21, 32], 'sal': [45000]} <class 'dict'>\n"
     ]
    }
   ],
   "source": [
    "t={'name':(\"ramu\",\"sai\",\"teja\"),'age':[12,21,32],'sal':[45000]}\n",
    "print(t,type(t))"
   ]
  },
  {
   "cell_type": "code",
   "execution_count": 11,
   "id": "f0a8a08f",
   "metadata": {},
   "outputs": [
    {
     "name": "stdout",
     "output_type": "stream",
     "text": [
      "21\n"
     ]
    }
   ],
   "source": [
    "print(t['age'][1])"
   ]
  },
  {
   "cell_type": "code",
   "execution_count": 13,
   "id": "e8cdf532",
   "metadata": {},
   "outputs": [
    {
     "name": "stdout",
     "output_type": "stream",
     "text": [
      "['__class__', '__contains__', '__delattr__', '__delitem__', '__dir__', '__doc__', '__eq__', '__format__', '__ge__', '__getattribute__', '__getitem__', '__gt__', '__hash__', '__init__', '__init_subclass__', '__iter__', '__le__', '__len__', '__lt__', '__ne__', '__new__', '__reduce__', '__reduce_ex__', '__repr__', '__setattr__', '__setitem__', '__sizeof__', '__str__', '__subclasshook__', 'clear', 'copy', 'fromkeys', 'get', 'items', 'keys', 'pop', 'popitem', 'setdefault', 'update', 'values']\n"
     ]
    }
   ],
   "source": [
    "print(dir(dict))"
   ]
  },
  {
   "cell_type": "code",
   "execution_count": 14,
   "id": "8298a647",
   "metadata": {},
   "outputs": [
    {
     "name": "stdout",
     "output_type": "stream",
     "text": [
      "dict_keys(['name', 'age', 'sal'])\n"
     ]
    }
   ],
   "source": [
    "print(t.keys()) # heading names will print"
   ]
  },
  {
   "cell_type": "code",
   "execution_count": 15,
   "id": "efed8917",
   "metadata": {},
   "outputs": [
    {
     "name": "stdout",
     "output_type": "stream",
     "text": [
      "dict_values([('ramu', 'sai', 'teja'), [12, 21, 32], [45000]])\n"
     ]
    }
   ],
   "source": [
    "print(t.values())"
   ]
  },
  {
   "cell_type": "code",
   "execution_count": 16,
   "id": "7b47199e",
   "metadata": {},
   "outputs": [
    {
     "name": "stdout",
     "output_type": "stream",
     "text": [
      "{'name': 'tilak', 'age': 34, 'sal': 120000}\n"
     ]
    }
   ],
   "source": [
    "y={'name':\"tilak\",'age':34,'sal':120000}\n",
    "print(y)"
   ]
  },
  {
   "cell_type": "code",
   "execution_count": 17,
   "id": "b5ff31d1",
   "metadata": {},
   "outputs": [
    {
     "name": "stdout",
     "output_type": "stream",
     "text": [
      "dict_items([('name', ('ramu', 'sai', 'teja')), ('age', [12, 21, 32]), ('sal', [45000])])\n"
     ]
    }
   ],
   "source": [
    "print(t.items()) # key,value format will print"
   ]
  },
  {
   "cell_type": "code",
   "execution_count": 18,
   "id": "c2e951c5",
   "metadata": {},
   "outputs": [
    {
     "name": "stdout",
     "output_type": "stream",
     "text": [
      "('ramu', 'sai', 'teja')\n"
     ]
    }
   ],
   "source": [
    "print(t.get('name'))"
   ]
  },
  {
   "cell_type": "code",
   "execution_count": 20,
   "id": "050dba35",
   "metadata": {},
   "outputs": [
    {
     "name": "stdout",
     "output_type": "stream",
     "text": [
      "[12, 21, 32]\n"
     ]
    }
   ],
   "source": [
    "print(t.get('age'))"
   ]
  },
  {
   "cell_type": "code",
   "execution_count": 21,
   "id": "82909831",
   "metadata": {},
   "outputs": [
    {
     "name": "stdout",
     "output_type": "stream",
     "text": [
      "{'name': ('ramu', 'sai', 'teja'), 'age': [12, 21, 32], 'sal': [45000], 'no': 12}\n"
     ]
    }
   ],
   "source": [
    "t[\"no\"]=12\n",
    "print(t)"
   ]
  },
  {
   "cell_type": "code",
   "execution_count": 24,
   "id": "74fb06e9",
   "metadata": {},
   "outputs": [
    {
     "name": "stdout",
     "output_type": "stream",
     "text": [
      "{'name': ('ramu', 'sai', 'teja'), 'age': [12, 21, 32], 'sal': [45000], 'no': 'raju'}\n",
      "{'name': ('ramu', 'sai', 'teja'), 'age': [12, 21, 32], 'sal': [45000], 'no': 'raju'}\n"
     ]
    }
   ],
   "source": [
    "print(t)\n",
    "t[\"no\"]=\"raju\"\n",
    "print(t)"
   ]
  },
  {
   "cell_type": "code",
   "execution_count": 25,
   "id": "b7da9594",
   "metadata": {},
   "outputs": [
    {
     "name": "stdout",
     "output_type": "stream",
     "text": [
      "{'name': ('ramu', 'sai', 'teja'), 'age': [12, 21, 32], 'sal': [45000], 'no': 'raju'}\n",
      "{'name': ('ramu', 'sai', 'teja'), 'age': [12, 21, 32], 'sal': [45000], 'no': 'raju', 'tr': None}\n"
     ]
    }
   ],
   "source": [
    "print(t)\n",
    "t.setdefault('tr')\n",
    "print(t)"
   ]
  },
  {
   "cell_type": "code",
   "execution_count": 26,
   "id": "84a10da6",
   "metadata": {},
   "outputs": [
    {
     "name": "stdout",
     "output_type": "stream",
     "text": [
      "{'name': ('ramu', 'sai', 'teja'), 'age': [12, 21, 32], 'sal': [45000], 'no': 'raju', 'tr': None}\n",
      "{'name': ('ramu', 'sai', 'teja'), 'age': [12, 21, 32], 'sal': [45000], 'no': 'raju', 'tr': 34}\n"
     ]
    }
   ],
   "source": [
    "print(t)\n",
    "t.update({'tr':34})\n",
    "print(t)"
   ]
  },
  {
   "cell_type": "code",
   "execution_count": 28,
   "id": "a6a7658a",
   "metadata": {},
   "outputs": [
    {
     "name": "stdout",
     "output_type": "stream",
     "text": [
      "{'name': ('ramu', 'sai', 'teja'), 'age': [12, 21, 32], 'sal': [45000], 'no': 'raju', 'tr': 34}\n",
      "[45000]\n",
      "{'name': ('ramu', 'sai', 'teja'), 'age': [12, 21, 32], 'no': 'raju', 'tr': 34}\n"
     ]
    }
   ],
   "source": [
    "print(t)\n",
    "print(t.pop('sal'))\n",
    "print(t)"
   ]
  },
  {
   "cell_type": "code",
   "execution_count": 29,
   "id": "9f2fab49",
   "metadata": {},
   "outputs": [
    {
     "name": "stdout",
     "output_type": "stream",
     "text": [
      "('tr', 34)\n",
      "{'name': ('ramu', 'sai', 'teja'), 'age': [12, 21, 32], 'no': 'raju'}\n"
     ]
    }
   ],
   "source": [
    "print(t.popitem())\n",
    "print(t)"
   ]
  },
  {
   "cell_type": "code",
   "execution_count": 31,
   "id": "be33a9fe",
   "metadata": {},
   "outputs": [
    {
     "name": "stdout",
     "output_type": "stream",
     "text": [
      "['name', 'age', 'sal']\n",
      "[12, 34, 65, 43]\n",
      "{'name': 34, 'donar': 23}\n",
      "['name', 'age', 'sal']\n",
      "[12, 34, 65, 43]\n"
     ]
    }
   ],
   "source": [
    "q=['name','age','sal']\n",
    "w=[12,34,65,43]\n",
    "print(q)\n",
    "print(w)\n",
    "f={'name':34,'donar':23}\n",
    "f.fromkeys(w)\n",
    "f.fromkeys(q)\n",
    "print(f)\n",
    "print(q)\n",
    "print(w)"
   ]
  },
  {
   "cell_type": "code",
   "execution_count": 33,
   "id": "ed8546b2",
   "metadata": {},
   "outputs": [
    {
     "name": "stdout",
     "output_type": "stream",
     "text": [
      "{'name': [12, 34, 65, 43], 'age': [12, 34, 65, 43], 'sal': [12, 34, 65, 43]}\n"
     ]
    }
   ],
   "source": [
    "t={'name':\"ramu\",'sno':1}\n",
    "t1={}\n",
    "t1=t.fromkeys(q,w)\n",
    "print(t1)"
   ]
  },
  {
   "cell_type": "code",
   "execution_count": 34,
   "id": "5d47d88b",
   "metadata": {},
   "outputs": [
    {
     "name": "stdout",
     "output_type": "stream",
     "text": [
      "{'maths': [0, 23], 'python': [0, 23], 'c++': [0, 23]}\n"
     ]
    }
   ],
   "source": [
    "marks={}.fromkeys([\"maths\",\"python\",\"c++\"],[0,23])\n",
    "print(marks)"
   ]
  },
  {
   "cell_type": "code",
   "execution_count": null,
   "id": "ef0e28b9",
   "metadata": {},
   "outputs": [],
   "source": [
    "contact application:\n",
    "    ramu\n",
    "    1.dispaly -> entred name is:Ramu and your mobile number is:xxxxx\n",
    "    2.update mobile number -> enter updated mobile number:xxxxxx\n",
    "    rajesh\n",
    "    1.enter mobile number\n",
    "    \n",
    "    1.enter new record\n",
    "    2.display all records\n",
    "    3.update record\n",
    "    4.delete record\n",
    "     \n",
    "    1.ramu-> not exits\n",
    "     mobile number -> xxxx\n",
    "        2.name    mobile number\n",
    "        ramu       xxxxxxxxxx\n",
    "        rajesh     xxxxxxxxxx\n",
    "    3. ramu -> exist\n",
    "        mobile number -> xxxxxx\n",
    "        user doesnot exits\n",
    "    4. ramu -> exist\n",
    "        user deleted successfuly\n",
    "        user doesnt exits\n",
    "    \n",
    "    "
   ]
  },
  {
   "cell_type": "code",
   "execution_count": null,
   "id": "3a9c4c0c",
   "metadata": {},
   "outputs": [],
   "source": [
    "1\n",
    "2\n",
    "3\n",
    "4\n",
    "0\n",
    "    1  enter your name:rajesh\n",
    "        rajesh already exists\n",
    "        enter your mobile number:xxxxxxxxxx\n",
    "    2   name        mobile number\n",
    "        rajesh      xxxxxxxxxx\n",
    "    3   enter your name: rajesh\n",
    "        enter updated mobile number:xxxxxxxx\n",
    "        rajesh1\n",
    "        rajesh doesnot exit in our contact\n",
    "    4   enter your name: rajesh\n",
    "        rajesh record deleted successfuly\n",
    "        rajesh does not exit in your contact"
   ]
  },
  {
   "cell_type": "code",
   "execution_count": null,
   "id": "a9f16862",
   "metadata": {},
   "outputs": [],
   "source": []
  }
 ],
 "metadata": {
  "kernelspec": {
   "display_name": "Python 3",
   "language": "python",
   "name": "python3"
  },
  "language_info": {
   "codemirror_mode": {
    "name": "ipython",
    "version": 3
   },
   "file_extension": ".py",
   "mimetype": "text/x-python",
   "name": "python",
   "nbconvert_exporter": "python",
   "pygments_lexer": "ipython3",
   "version": "3.7.0"
  }
 },
 "nbformat": 4,
 "nbformat_minor": 5
}
